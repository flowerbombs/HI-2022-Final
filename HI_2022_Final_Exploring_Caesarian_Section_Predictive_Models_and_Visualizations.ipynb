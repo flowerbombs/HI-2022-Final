{
  "nbformat": 4,
  "nbformat_minor": 0,
  "metadata": {
    "colab": {
      "provenance": [],
      "include_colab_link": true
    },
    "kernelspec": {
      "name": "python3",
      "display_name": "Python 3"
    },
    "language_info": {
      "name": "python"
    }
  },
  "cells": [
    {
      "cell_type": "markdown",
      "metadata": {
        "id": "view-in-github",
        "colab_type": "text"
      },
      "source": [
        "<a href=\"https://colab.research.google.com/github/flowerbombs/HI-2022-Final/blob/main/HI_2022_Final_Exploring_Caesarian_Section_Predictive_Models_and_Visualizations.ipynb\" target=\"_parent\"><img src=\"https://colab.research.google.com/assets/colab-badge.svg\" alt=\"Open In Colab\"/></a>"
      ]
    },
    {
      "cell_type": "code",
      "execution_count": null,
      "metadata": {
        "colab": {
          "base_uri": "https://localhost:8080/"
        },
        "id": "yMVGES3ew4eu",
        "outputId": "83becd65-b42e-4eb3-e4a7-f91999a16aae"
      },
      "outputs": [
        {
          "output_type": "stream",
          "name": "stdout",
          "text": [
            "Drive already mounted at /content/gdrive; to attempt to forcibly remount, call drive.mount(\"/content/gdrive\", force_remount=True).\n"
          ]
        }
      ],
      "source": [
        "from google.colab import drive\n",
        "drive.mount('/content/gdrive')"
      ]
    },
    {
      "cell_type": "code",
      "source": [
        "import pandas as pd\n",
        "import numpy as np\n",
        "import seaborn as sns\n",
        "from scipy import stats\n",
        "from scipy.io import arff\n",
        "from matplotlib import cm\n",
        "import matplotlib.pyplot as plt\n",
        "from mpl_toolkits.mplot3d import Axes3D\n",
        "from numpy.random import randn\n",
        "from numpy.random import seed\n",
        "from sklearn.metrics import confusion_matrix\n",
        "from sklearn.preprocessing import StandardScaler\n",
        "from sklearn.model_selection import train_test_split\n",
        "from sklearn.tree import DecisionTreeClassifier\n",
        "from sklearn.naive_bayes import GaussianNB\n",
        "from sklearn.metrics import accuracy_score, precision_score, recall_score\n",
        "from sklearn.metrics import classification_report\n",
        "from sklearn.metrics import mean_squared_error\n",
        "from sklearn.tree import DecisionTreeRegressor\n"
      ],
      "metadata": {
        "id": "6icEFIlzxOcU"
      },
      "execution_count": null,
      "outputs": []
    },
    {
      "cell_type": "code",
      "source": [
        "raw_data = pd.read_csv('/content/gdrive/My Drive/HI2022_Final/caesarian.csv.arff')"
      ],
      "metadata": {
        "id": "PcI1OxSEBjwZ"
      },
      "execution_count": null,
      "outputs": []
    },
    {
      "cell_type": "code",
      "source": [
        "print(raw_data.columns)"
      ],
      "metadata": {
        "colab": {
          "base_uri": "https://localhost:8080/"
        },
        "id": "VvSUBH26DGaw",
        "outputId": "94cf8494-3d03-4ab9-f8e3-6c5d1411b704"
      },
      "execution_count": null,
      "outputs": [
        {
          "output_type": "stream",
          "name": "stdout",
          "text": [
            "Index(['@relation caesarian'], dtype='object')\n"
          ]
        }
      ]
    },
    {
      "cell_type": "code",
      "source": [
        "data, meta = arff.loadarff('/content/gdrive/My Drive/HI2022_Final/caesarian.csv.arff')"
      ],
      "metadata": {
        "id": "ZZMlbFqbDfAP"
      },
      "execution_count": null,
      "outputs": []
    },
    {
      "cell_type": "code",
      "source": [
        "raw_data = pd.DataFrame(data)"
      ],
      "metadata": {
        "id": "4RE-dYzGDmm7"
      },
      "execution_count": null,
      "outputs": []
    },
    {
      "cell_type": "code",
      "source": [
        "print(raw_data.columns)"
      ],
      "metadata": {
        "colab": {
          "base_uri": "https://localhost:8080/"
        },
        "id": "klUtWumIDr-B",
        "outputId": "45b1ec72-e11c-4d0b-ac9a-2bf0ce2ad372"
      },
      "execution_count": null,
      "outputs": [
        {
          "output_type": "stream",
          "name": "stdout",
          "text": [
            "Index(['Age', 'Delivery number', 'Delivery time', 'Blood of Pressure',\n",
            "       'Heart Problem', 'Caesarian'],\n",
            "      dtype='object')\n"
          ]
        }
      ]
    },
    {
      "cell_type": "code",
      "source": [
        "raw_data"
      ],
      "metadata": {
        "colab": {
          "base_uri": "https://localhost:8080/",
          "height": 436
        },
        "id": "jg9YUDVTEGPO",
        "outputId": "432a5a10-0dbf-4e1c-d41c-bb0045660917"
      },
      "execution_count": null,
      "outputs": [
        {
          "output_type": "execute_result",
          "data": {
            "text/plain": [
              "      Age Delivery number Delivery time Blood of Pressure Heart Problem  \\\n",
              "0   b'22'            b'1'          b'0'              b'2'          b'0'   \n",
              "1   b'26'            b'2'          b'0'              b'1'          b'0'   \n",
              "2   b'26'            b'2'          b'1'              b'1'          b'0'   \n",
              "3   b'28'            b'1'          b'0'              b'2'          b'0'   \n",
              "4   b'22'            b'2'          b'0'              b'1'          b'0'   \n",
              "..    ...             ...           ...               ...           ...   \n",
              "75  b'27'            b'2'          b'1'              b'1'          b'0'   \n",
              "76  b'33'            b'4'          b'0'              b'1'          b'0'   \n",
              "77  b'29'            b'2'          b'1'              b'2'          b'0'   \n",
              "78  b'25'            b'1'          b'2'              b'0'          b'0'   \n",
              "79  b'24'            b'2'          b'2'              b'1'          b'0'   \n",
              "\n",
              "   Caesarian  \n",
              "0       b'0'  \n",
              "1       b'1'  \n",
              "2       b'0'  \n",
              "3       b'0'  \n",
              "4       b'1'  \n",
              "..       ...  \n",
              "75      b'0'  \n",
              "76      b'1'  \n",
              "77      b'1'  \n",
              "78      b'1'  \n",
              "79      b'0'  \n",
              "\n",
              "[80 rows x 6 columns]"
            ],
            "text/html": [
              "\n",
              "  <div id=\"df-d01bf534-9171-414c-a3a2-2bbbe234aace\" class=\"colab-df-container\">\n",
              "    <div>\n",
              "<style scoped>\n",
              "    .dataframe tbody tr th:only-of-type {\n",
              "        vertical-align: middle;\n",
              "    }\n",
              "\n",
              "    .dataframe tbody tr th {\n",
              "        vertical-align: top;\n",
              "    }\n",
              "\n",
              "    .dataframe thead th {\n",
              "        text-align: right;\n",
              "    }\n",
              "</style>\n",
              "<table border=\"1\" class=\"dataframe\">\n",
              "  <thead>\n",
              "    <tr style=\"text-align: right;\">\n",
              "      <th></th>\n",
              "      <th>Age</th>\n",
              "      <th>Delivery number</th>\n",
              "      <th>Delivery time</th>\n",
              "      <th>Blood of Pressure</th>\n",
              "      <th>Heart Problem</th>\n",
              "      <th>Caesarian</th>\n",
              "    </tr>\n",
              "  </thead>\n",
              "  <tbody>\n",
              "    <tr>\n",
              "      <th>0</th>\n",
              "      <td>b'22'</td>\n",
              "      <td>b'1'</td>\n",
              "      <td>b'0'</td>\n",
              "      <td>b'2'</td>\n",
              "      <td>b'0'</td>\n",
              "      <td>b'0'</td>\n",
              "    </tr>\n",
              "    <tr>\n",
              "      <th>1</th>\n",
              "      <td>b'26'</td>\n",
              "      <td>b'2'</td>\n",
              "      <td>b'0'</td>\n",
              "      <td>b'1'</td>\n",
              "      <td>b'0'</td>\n",
              "      <td>b'1'</td>\n",
              "    </tr>\n",
              "    <tr>\n",
              "      <th>2</th>\n",
              "      <td>b'26'</td>\n",
              "      <td>b'2'</td>\n",
              "      <td>b'1'</td>\n",
              "      <td>b'1'</td>\n",
              "      <td>b'0'</td>\n",
              "      <td>b'0'</td>\n",
              "    </tr>\n",
              "    <tr>\n",
              "      <th>3</th>\n",
              "      <td>b'28'</td>\n",
              "      <td>b'1'</td>\n",
              "      <td>b'0'</td>\n",
              "      <td>b'2'</td>\n",
              "      <td>b'0'</td>\n",
              "      <td>b'0'</td>\n",
              "    </tr>\n",
              "    <tr>\n",
              "      <th>4</th>\n",
              "      <td>b'22'</td>\n",
              "      <td>b'2'</td>\n",
              "      <td>b'0'</td>\n",
              "      <td>b'1'</td>\n",
              "      <td>b'0'</td>\n",
              "      <td>b'1'</td>\n",
              "    </tr>\n",
              "    <tr>\n",
              "      <th>...</th>\n",
              "      <td>...</td>\n",
              "      <td>...</td>\n",
              "      <td>...</td>\n",
              "      <td>...</td>\n",
              "      <td>...</td>\n",
              "      <td>...</td>\n",
              "    </tr>\n",
              "    <tr>\n",
              "      <th>75</th>\n",
              "      <td>b'27'</td>\n",
              "      <td>b'2'</td>\n",
              "      <td>b'1'</td>\n",
              "      <td>b'1'</td>\n",
              "      <td>b'0'</td>\n",
              "      <td>b'0'</td>\n",
              "    </tr>\n",
              "    <tr>\n",
              "      <th>76</th>\n",
              "      <td>b'33'</td>\n",
              "      <td>b'4'</td>\n",
              "      <td>b'0'</td>\n",
              "      <td>b'1'</td>\n",
              "      <td>b'0'</td>\n",
              "      <td>b'1'</td>\n",
              "    </tr>\n",
              "    <tr>\n",
              "      <th>77</th>\n",
              "      <td>b'29'</td>\n",
              "      <td>b'2'</td>\n",
              "      <td>b'1'</td>\n",
              "      <td>b'2'</td>\n",
              "      <td>b'0'</td>\n",
              "      <td>b'1'</td>\n",
              "    </tr>\n",
              "    <tr>\n",
              "      <th>78</th>\n",
              "      <td>b'25'</td>\n",
              "      <td>b'1'</td>\n",
              "      <td>b'2'</td>\n",
              "      <td>b'0'</td>\n",
              "      <td>b'0'</td>\n",
              "      <td>b'1'</td>\n",
              "    </tr>\n",
              "    <tr>\n",
              "      <th>79</th>\n",
              "      <td>b'24'</td>\n",
              "      <td>b'2'</td>\n",
              "      <td>b'2'</td>\n",
              "      <td>b'1'</td>\n",
              "      <td>b'0'</td>\n",
              "      <td>b'0'</td>\n",
              "    </tr>\n",
              "  </tbody>\n",
              "</table>\n",
              "<p>80 rows × 6 columns</p>\n",
              "</div>\n",
              "    <div class=\"colab-df-buttons\">\n",
              "\n",
              "  <div class=\"colab-df-container\">\n",
              "    <button class=\"colab-df-convert\" onclick=\"convertToInteractive('df-d01bf534-9171-414c-a3a2-2bbbe234aace')\"\n",
              "            title=\"Convert this dataframe to an interactive table.\"\n",
              "            style=\"display:none;\">\n",
              "\n",
              "  <svg xmlns=\"http://www.w3.org/2000/svg\" height=\"24px\" viewBox=\"0 -960 960 960\">\n",
              "    <path d=\"M120-120v-720h720v720H120Zm60-500h600v-160H180v160Zm220 220h160v-160H400v160Zm0 220h160v-160H400v160ZM180-400h160v-160H180v160Zm440 0h160v-160H620v160ZM180-180h160v-160H180v160Zm440 0h160v-160H620v160Z\"/>\n",
              "  </svg>\n",
              "    </button>\n",
              "\n",
              "  <style>\n",
              "    .colab-df-container {\n",
              "      display:flex;\n",
              "      gap: 12px;\n",
              "    }\n",
              "\n",
              "    .colab-df-convert {\n",
              "      background-color: #E8F0FE;\n",
              "      border: none;\n",
              "      border-radius: 50%;\n",
              "      cursor: pointer;\n",
              "      display: none;\n",
              "      fill: #1967D2;\n",
              "      height: 32px;\n",
              "      padding: 0 0 0 0;\n",
              "      width: 32px;\n",
              "    }\n",
              "\n",
              "    .colab-df-convert:hover {\n",
              "      background-color: #E2EBFA;\n",
              "      box-shadow: 0px 1px 2px rgba(60, 64, 67, 0.3), 0px 1px 3px 1px rgba(60, 64, 67, 0.15);\n",
              "      fill: #174EA6;\n",
              "    }\n",
              "\n",
              "    .colab-df-buttons div {\n",
              "      margin-bottom: 4px;\n",
              "    }\n",
              "\n",
              "    [theme=dark] .colab-df-convert {\n",
              "      background-color: #3B4455;\n",
              "      fill: #D2E3FC;\n",
              "    }\n",
              "\n",
              "    [theme=dark] .colab-df-convert:hover {\n",
              "      background-color: #434B5C;\n",
              "      box-shadow: 0px 1px 3px 1px rgba(0, 0, 0, 0.15);\n",
              "      filter: drop-shadow(0px 1px 2px rgba(0, 0, 0, 0.3));\n",
              "      fill: #FFFFFF;\n",
              "    }\n",
              "  </style>\n",
              "\n",
              "    <script>\n",
              "      const buttonEl =\n",
              "        document.querySelector('#df-d01bf534-9171-414c-a3a2-2bbbe234aace button.colab-df-convert');\n",
              "      buttonEl.style.display =\n",
              "        google.colab.kernel.accessAllowed ? 'block' : 'none';\n",
              "\n",
              "      async function convertToInteractive(key) {\n",
              "        const element = document.querySelector('#df-d01bf534-9171-414c-a3a2-2bbbe234aace');\n",
              "        const dataTable =\n",
              "          await google.colab.kernel.invokeFunction('convertToInteractive',\n",
              "                                                    [key], {});\n",
              "        if (!dataTable) return;\n",
              "\n",
              "        const docLinkHtml = 'Like what you see? Visit the ' +\n",
              "          '<a target=\"_blank\" href=https://colab.research.google.com/notebooks/data_table.ipynb>data table notebook</a>'\n",
              "          + ' to learn more about interactive tables.';\n",
              "        element.innerHTML = '';\n",
              "        dataTable['output_type'] = 'display_data';\n",
              "        await google.colab.output.renderOutput(dataTable, element);\n",
              "        const docLink = document.createElement('div');\n",
              "        docLink.innerHTML = docLinkHtml;\n",
              "        element.appendChild(docLink);\n",
              "      }\n",
              "    </script>\n",
              "  </div>\n",
              "\n",
              "\n",
              "<div id=\"df-91876796-f909-4ee2-b23f-a1d736bc33f5\">\n",
              "  <button class=\"colab-df-quickchart\" onclick=\"quickchart('df-91876796-f909-4ee2-b23f-a1d736bc33f5')\"\n",
              "            title=\"Suggest charts\"\n",
              "            style=\"display:none;\">\n",
              "\n",
              "<svg xmlns=\"http://www.w3.org/2000/svg\" height=\"24px\"viewBox=\"0 0 24 24\"\n",
              "     width=\"24px\">\n",
              "    <g>\n",
              "        <path d=\"M19 3H5c-1.1 0-2 .9-2 2v14c0 1.1.9 2 2 2h14c1.1 0 2-.9 2-2V5c0-1.1-.9-2-2-2zM9 17H7v-7h2v7zm4 0h-2V7h2v10zm4 0h-2v-4h2v4z\"/>\n",
              "    </g>\n",
              "</svg>\n",
              "  </button>\n",
              "\n",
              "<style>\n",
              "  .colab-df-quickchart {\n",
              "      --bg-color: #E8F0FE;\n",
              "      --fill-color: #1967D2;\n",
              "      --hover-bg-color: #E2EBFA;\n",
              "      --hover-fill-color: #174EA6;\n",
              "      --disabled-fill-color: #AAA;\n",
              "      --disabled-bg-color: #DDD;\n",
              "  }\n",
              "\n",
              "  [theme=dark] .colab-df-quickchart {\n",
              "      --bg-color: #3B4455;\n",
              "      --fill-color: #D2E3FC;\n",
              "      --hover-bg-color: #434B5C;\n",
              "      --hover-fill-color: #FFFFFF;\n",
              "      --disabled-bg-color: #3B4455;\n",
              "      --disabled-fill-color: #666;\n",
              "  }\n",
              "\n",
              "  .colab-df-quickchart {\n",
              "    background-color: var(--bg-color);\n",
              "    border: none;\n",
              "    border-radius: 50%;\n",
              "    cursor: pointer;\n",
              "    display: none;\n",
              "    fill: var(--fill-color);\n",
              "    height: 32px;\n",
              "    padding: 0;\n",
              "    width: 32px;\n",
              "  }\n",
              "\n",
              "  .colab-df-quickchart:hover {\n",
              "    background-color: var(--hover-bg-color);\n",
              "    box-shadow: 0 1px 2px rgba(60, 64, 67, 0.3), 0 1px 3px 1px rgba(60, 64, 67, 0.15);\n",
              "    fill: var(--button-hover-fill-color);\n",
              "  }\n",
              "\n",
              "  .colab-df-quickchart-complete:disabled,\n",
              "  .colab-df-quickchart-complete:disabled:hover {\n",
              "    background-color: var(--disabled-bg-color);\n",
              "    fill: var(--disabled-fill-color);\n",
              "    box-shadow: none;\n",
              "  }\n",
              "\n",
              "  .colab-df-spinner {\n",
              "    border: 2px solid var(--fill-color);\n",
              "    border-color: transparent;\n",
              "    border-bottom-color: var(--fill-color);\n",
              "    animation:\n",
              "      spin 1s steps(1) infinite;\n",
              "  }\n",
              "\n",
              "  @keyframes spin {\n",
              "    0% {\n",
              "      border-color: transparent;\n",
              "      border-bottom-color: var(--fill-color);\n",
              "      border-left-color: var(--fill-color);\n",
              "    }\n",
              "    20% {\n",
              "      border-color: transparent;\n",
              "      border-left-color: var(--fill-color);\n",
              "      border-top-color: var(--fill-color);\n",
              "    }\n",
              "    30% {\n",
              "      border-color: transparent;\n",
              "      border-left-color: var(--fill-color);\n",
              "      border-top-color: var(--fill-color);\n",
              "      border-right-color: var(--fill-color);\n",
              "    }\n",
              "    40% {\n",
              "      border-color: transparent;\n",
              "      border-right-color: var(--fill-color);\n",
              "      border-top-color: var(--fill-color);\n",
              "    }\n",
              "    60% {\n",
              "      border-color: transparent;\n",
              "      border-right-color: var(--fill-color);\n",
              "    }\n",
              "    80% {\n",
              "      border-color: transparent;\n",
              "      border-right-color: var(--fill-color);\n",
              "      border-bottom-color: var(--fill-color);\n",
              "    }\n",
              "    90% {\n",
              "      border-color: transparent;\n",
              "      border-bottom-color: var(--fill-color);\n",
              "    }\n",
              "  }\n",
              "</style>\n",
              "\n",
              "  <script>\n",
              "    async function quickchart(key) {\n",
              "      const quickchartButtonEl =\n",
              "        document.querySelector('#' + key + ' button');\n",
              "      quickchartButtonEl.disabled = true;  // To prevent multiple clicks.\n",
              "      quickchartButtonEl.classList.add('colab-df-spinner');\n",
              "      try {\n",
              "        const charts = await google.colab.kernel.invokeFunction(\n",
              "            'suggestCharts', [key], {});\n",
              "      } catch (error) {\n",
              "        console.error('Error during call to suggestCharts:', error);\n",
              "      }\n",
              "      quickchartButtonEl.classList.remove('colab-df-spinner');\n",
              "      quickchartButtonEl.classList.add('colab-df-quickchart-complete');\n",
              "    }\n",
              "    (() => {\n",
              "      let quickchartButtonEl =\n",
              "        document.querySelector('#df-91876796-f909-4ee2-b23f-a1d736bc33f5 button');\n",
              "      quickchartButtonEl.style.display =\n",
              "        google.colab.kernel.accessAllowed ? 'block' : 'none';\n",
              "    })();\n",
              "  </script>\n",
              "</div>\n",
              "    </div>\n",
              "  </div>\n"
            ]
          },
          "metadata": {},
          "execution_count": 153
        }
      ]
    },
    {
      "cell_type": "code",
      "source": [
        "for column in raw_data.columns:\n",
        "  raw_data[column] = raw_data[column].str.decode('utf-8', errors='ignore')"
      ],
      "metadata": {
        "id": "C5ftj4WInlux"
      },
      "execution_count": null,
      "outputs": []
    },
    {
      "cell_type": "code",
      "source": [
        "raw_data"
      ],
      "metadata": {
        "colab": {
          "base_uri": "https://localhost:8080/",
          "height": 436
        },
        "id": "UR03pSUomfNj",
        "outputId": "6f1972f6-c1b5-411f-e3ed-9f81a87d3674"
      },
      "execution_count": null,
      "outputs": [
        {
          "output_type": "execute_result",
          "data": {
            "text/plain": [
              "   Age Delivery number Delivery time Blood of Pressure Heart Problem Caesarian\n",
              "0   22               1             0                 2             0         0\n",
              "1   26               2             0                 1             0         1\n",
              "2   26               2             1                 1             0         0\n",
              "3   28               1             0                 2             0         0\n",
              "4   22               2             0                 1             0         1\n",
              "..  ..             ...           ...               ...           ...       ...\n",
              "75  27               2             1                 1             0         0\n",
              "76  33               4             0                 1             0         1\n",
              "77  29               2             1                 2             0         1\n",
              "78  25               1             2                 0             0         1\n",
              "79  24               2             2                 1             0         0\n",
              "\n",
              "[80 rows x 6 columns]"
            ],
            "text/html": [
              "\n",
              "  <div id=\"df-ddbec999-2fe2-4080-b640-f50a97f827d5\" class=\"colab-df-container\">\n",
              "    <div>\n",
              "<style scoped>\n",
              "    .dataframe tbody tr th:only-of-type {\n",
              "        vertical-align: middle;\n",
              "    }\n",
              "\n",
              "    .dataframe tbody tr th {\n",
              "        vertical-align: top;\n",
              "    }\n",
              "\n",
              "    .dataframe thead th {\n",
              "        text-align: right;\n",
              "    }\n",
              "</style>\n",
              "<table border=\"1\" class=\"dataframe\">\n",
              "  <thead>\n",
              "    <tr style=\"text-align: right;\">\n",
              "      <th></th>\n",
              "      <th>Age</th>\n",
              "      <th>Delivery number</th>\n",
              "      <th>Delivery time</th>\n",
              "      <th>Blood of Pressure</th>\n",
              "      <th>Heart Problem</th>\n",
              "      <th>Caesarian</th>\n",
              "    </tr>\n",
              "  </thead>\n",
              "  <tbody>\n",
              "    <tr>\n",
              "      <th>0</th>\n",
              "      <td>22</td>\n",
              "      <td>1</td>\n",
              "      <td>0</td>\n",
              "      <td>2</td>\n",
              "      <td>0</td>\n",
              "      <td>0</td>\n",
              "    </tr>\n",
              "    <tr>\n",
              "      <th>1</th>\n",
              "      <td>26</td>\n",
              "      <td>2</td>\n",
              "      <td>0</td>\n",
              "      <td>1</td>\n",
              "      <td>0</td>\n",
              "      <td>1</td>\n",
              "    </tr>\n",
              "    <tr>\n",
              "      <th>2</th>\n",
              "      <td>26</td>\n",
              "      <td>2</td>\n",
              "      <td>1</td>\n",
              "      <td>1</td>\n",
              "      <td>0</td>\n",
              "      <td>0</td>\n",
              "    </tr>\n",
              "    <tr>\n",
              "      <th>3</th>\n",
              "      <td>28</td>\n",
              "      <td>1</td>\n",
              "      <td>0</td>\n",
              "      <td>2</td>\n",
              "      <td>0</td>\n",
              "      <td>0</td>\n",
              "    </tr>\n",
              "    <tr>\n",
              "      <th>4</th>\n",
              "      <td>22</td>\n",
              "      <td>2</td>\n",
              "      <td>0</td>\n",
              "      <td>1</td>\n",
              "      <td>0</td>\n",
              "      <td>1</td>\n",
              "    </tr>\n",
              "    <tr>\n",
              "      <th>...</th>\n",
              "      <td>...</td>\n",
              "      <td>...</td>\n",
              "      <td>...</td>\n",
              "      <td>...</td>\n",
              "      <td>...</td>\n",
              "      <td>...</td>\n",
              "    </tr>\n",
              "    <tr>\n",
              "      <th>75</th>\n",
              "      <td>27</td>\n",
              "      <td>2</td>\n",
              "      <td>1</td>\n",
              "      <td>1</td>\n",
              "      <td>0</td>\n",
              "      <td>0</td>\n",
              "    </tr>\n",
              "    <tr>\n",
              "      <th>76</th>\n",
              "      <td>33</td>\n",
              "      <td>4</td>\n",
              "      <td>0</td>\n",
              "      <td>1</td>\n",
              "      <td>0</td>\n",
              "      <td>1</td>\n",
              "    </tr>\n",
              "    <tr>\n",
              "      <th>77</th>\n",
              "      <td>29</td>\n",
              "      <td>2</td>\n",
              "      <td>1</td>\n",
              "      <td>2</td>\n",
              "      <td>0</td>\n",
              "      <td>1</td>\n",
              "    </tr>\n",
              "    <tr>\n",
              "      <th>78</th>\n",
              "      <td>25</td>\n",
              "      <td>1</td>\n",
              "      <td>2</td>\n",
              "      <td>0</td>\n",
              "      <td>0</td>\n",
              "      <td>1</td>\n",
              "    </tr>\n",
              "    <tr>\n",
              "      <th>79</th>\n",
              "      <td>24</td>\n",
              "      <td>2</td>\n",
              "      <td>2</td>\n",
              "      <td>1</td>\n",
              "      <td>0</td>\n",
              "      <td>0</td>\n",
              "    </tr>\n",
              "  </tbody>\n",
              "</table>\n",
              "<p>80 rows × 6 columns</p>\n",
              "</div>\n",
              "    <div class=\"colab-df-buttons\">\n",
              "\n",
              "  <div class=\"colab-df-container\">\n",
              "    <button class=\"colab-df-convert\" onclick=\"convertToInteractive('df-ddbec999-2fe2-4080-b640-f50a97f827d5')\"\n",
              "            title=\"Convert this dataframe to an interactive table.\"\n",
              "            style=\"display:none;\">\n",
              "\n",
              "  <svg xmlns=\"http://www.w3.org/2000/svg\" height=\"24px\" viewBox=\"0 -960 960 960\">\n",
              "    <path d=\"M120-120v-720h720v720H120Zm60-500h600v-160H180v160Zm220 220h160v-160H400v160Zm0 220h160v-160H400v160ZM180-400h160v-160H180v160Zm440 0h160v-160H620v160ZM180-180h160v-160H180v160Zm440 0h160v-160H620v160Z\"/>\n",
              "  </svg>\n",
              "    </button>\n",
              "\n",
              "  <style>\n",
              "    .colab-df-container {\n",
              "      display:flex;\n",
              "      gap: 12px;\n",
              "    }\n",
              "\n",
              "    .colab-df-convert {\n",
              "      background-color: #E8F0FE;\n",
              "      border: none;\n",
              "      border-radius: 50%;\n",
              "      cursor: pointer;\n",
              "      display: none;\n",
              "      fill: #1967D2;\n",
              "      height: 32px;\n",
              "      padding: 0 0 0 0;\n",
              "      width: 32px;\n",
              "    }\n",
              "\n",
              "    .colab-df-convert:hover {\n",
              "      background-color: #E2EBFA;\n",
              "      box-shadow: 0px 1px 2px rgba(60, 64, 67, 0.3), 0px 1px 3px 1px rgba(60, 64, 67, 0.15);\n",
              "      fill: #174EA6;\n",
              "    }\n",
              "\n",
              "    .colab-df-buttons div {\n",
              "      margin-bottom: 4px;\n",
              "    }\n",
              "\n",
              "    [theme=dark] .colab-df-convert {\n",
              "      background-color: #3B4455;\n",
              "      fill: #D2E3FC;\n",
              "    }\n",
              "\n",
              "    [theme=dark] .colab-df-convert:hover {\n",
              "      background-color: #434B5C;\n",
              "      box-shadow: 0px 1px 3px 1px rgba(0, 0, 0, 0.15);\n",
              "      filter: drop-shadow(0px 1px 2px rgba(0, 0, 0, 0.3));\n",
              "      fill: #FFFFFF;\n",
              "    }\n",
              "  </style>\n",
              "\n",
              "    <script>\n",
              "      const buttonEl =\n",
              "        document.querySelector('#df-ddbec999-2fe2-4080-b640-f50a97f827d5 button.colab-df-convert');\n",
              "      buttonEl.style.display =\n",
              "        google.colab.kernel.accessAllowed ? 'block' : 'none';\n",
              "\n",
              "      async function convertToInteractive(key) {\n",
              "        const element = document.querySelector('#df-ddbec999-2fe2-4080-b640-f50a97f827d5');\n",
              "        const dataTable =\n",
              "          await google.colab.kernel.invokeFunction('convertToInteractive',\n",
              "                                                    [key], {});\n",
              "        if (!dataTable) return;\n",
              "\n",
              "        const docLinkHtml = 'Like what you see? Visit the ' +\n",
              "          '<a target=\"_blank\" href=https://colab.research.google.com/notebooks/data_table.ipynb>data table notebook</a>'\n",
              "          + ' to learn more about interactive tables.';\n",
              "        element.innerHTML = '';\n",
              "        dataTable['output_type'] = 'display_data';\n",
              "        await google.colab.output.renderOutput(dataTable, element);\n",
              "        const docLink = document.createElement('div');\n",
              "        docLink.innerHTML = docLinkHtml;\n",
              "        element.appendChild(docLink);\n",
              "      }\n",
              "    </script>\n",
              "  </div>\n",
              "\n",
              "\n",
              "<div id=\"df-9f8c1135-2a37-4d80-b92e-7d202f6e99dc\">\n",
              "  <button class=\"colab-df-quickchart\" onclick=\"quickchart('df-9f8c1135-2a37-4d80-b92e-7d202f6e99dc')\"\n",
              "            title=\"Suggest charts\"\n",
              "            style=\"display:none;\">\n",
              "\n",
              "<svg xmlns=\"http://www.w3.org/2000/svg\" height=\"24px\"viewBox=\"0 0 24 24\"\n",
              "     width=\"24px\">\n",
              "    <g>\n",
              "        <path d=\"M19 3H5c-1.1 0-2 .9-2 2v14c0 1.1.9 2 2 2h14c1.1 0 2-.9 2-2V5c0-1.1-.9-2-2-2zM9 17H7v-7h2v7zm4 0h-2V7h2v10zm4 0h-2v-4h2v4z\"/>\n",
              "    </g>\n",
              "</svg>\n",
              "  </button>\n",
              "\n",
              "<style>\n",
              "  .colab-df-quickchart {\n",
              "      --bg-color: #E8F0FE;\n",
              "      --fill-color: #1967D2;\n",
              "      --hover-bg-color: #E2EBFA;\n",
              "      --hover-fill-color: #174EA6;\n",
              "      --disabled-fill-color: #AAA;\n",
              "      --disabled-bg-color: #DDD;\n",
              "  }\n",
              "\n",
              "  [theme=dark] .colab-df-quickchart {\n",
              "      --bg-color: #3B4455;\n",
              "      --fill-color: #D2E3FC;\n",
              "      --hover-bg-color: #434B5C;\n",
              "      --hover-fill-color: #FFFFFF;\n",
              "      --disabled-bg-color: #3B4455;\n",
              "      --disabled-fill-color: #666;\n",
              "  }\n",
              "\n",
              "  .colab-df-quickchart {\n",
              "    background-color: var(--bg-color);\n",
              "    border: none;\n",
              "    border-radius: 50%;\n",
              "    cursor: pointer;\n",
              "    display: none;\n",
              "    fill: var(--fill-color);\n",
              "    height: 32px;\n",
              "    padding: 0;\n",
              "    width: 32px;\n",
              "  }\n",
              "\n",
              "  .colab-df-quickchart:hover {\n",
              "    background-color: var(--hover-bg-color);\n",
              "    box-shadow: 0 1px 2px rgba(60, 64, 67, 0.3), 0 1px 3px 1px rgba(60, 64, 67, 0.15);\n",
              "    fill: var(--button-hover-fill-color);\n",
              "  }\n",
              "\n",
              "  .colab-df-quickchart-complete:disabled,\n",
              "  .colab-df-quickchart-complete:disabled:hover {\n",
              "    background-color: var(--disabled-bg-color);\n",
              "    fill: var(--disabled-fill-color);\n",
              "    box-shadow: none;\n",
              "  }\n",
              "\n",
              "  .colab-df-spinner {\n",
              "    border: 2px solid var(--fill-color);\n",
              "    border-color: transparent;\n",
              "    border-bottom-color: var(--fill-color);\n",
              "    animation:\n",
              "      spin 1s steps(1) infinite;\n",
              "  }\n",
              "\n",
              "  @keyframes spin {\n",
              "    0% {\n",
              "      border-color: transparent;\n",
              "      border-bottom-color: var(--fill-color);\n",
              "      border-left-color: var(--fill-color);\n",
              "    }\n",
              "    20% {\n",
              "      border-color: transparent;\n",
              "      border-left-color: var(--fill-color);\n",
              "      border-top-color: var(--fill-color);\n",
              "    }\n",
              "    30% {\n",
              "      border-color: transparent;\n",
              "      border-left-color: var(--fill-color);\n",
              "      border-top-color: var(--fill-color);\n",
              "      border-right-color: var(--fill-color);\n",
              "    }\n",
              "    40% {\n",
              "      border-color: transparent;\n",
              "      border-right-color: var(--fill-color);\n",
              "      border-top-color: var(--fill-color);\n",
              "    }\n",
              "    60% {\n",
              "      border-color: transparent;\n",
              "      border-right-color: var(--fill-color);\n",
              "    }\n",
              "    80% {\n",
              "      border-color: transparent;\n",
              "      border-right-color: var(--fill-color);\n",
              "      border-bottom-color: var(--fill-color);\n",
              "    }\n",
              "    90% {\n",
              "      border-color: transparent;\n",
              "      border-bottom-color: var(--fill-color);\n",
              "    }\n",
              "  }\n",
              "</style>\n",
              "\n",
              "  <script>\n",
              "    async function quickchart(key) {\n",
              "      const quickchartButtonEl =\n",
              "        document.querySelector('#' + key + ' button');\n",
              "      quickchartButtonEl.disabled = true;  // To prevent multiple clicks.\n",
              "      quickchartButtonEl.classList.add('colab-df-spinner');\n",
              "      try {\n",
              "        const charts = await google.colab.kernel.invokeFunction(\n",
              "            'suggestCharts', [key], {});\n",
              "      } catch (error) {\n",
              "        console.error('Error during call to suggestCharts:', error);\n",
              "      }\n",
              "      quickchartButtonEl.classList.remove('colab-df-spinner');\n",
              "      quickchartButtonEl.classList.add('colab-df-quickchart-complete');\n",
              "    }\n",
              "    (() => {\n",
              "      let quickchartButtonEl =\n",
              "        document.querySelector('#df-9f8c1135-2a37-4d80-b92e-7d202f6e99dc button');\n",
              "      quickchartButtonEl.style.display =\n",
              "        google.colab.kernel.accessAllowed ? 'block' : 'none';\n",
              "    })();\n",
              "  </script>\n",
              "</div>\n",
              "    </div>\n",
              "  </div>\n"
            ]
          },
          "metadata": {},
          "execution_count": 155
        }
      ]
    },
    {
      "cell_type": "code",
      "source": [
        "#Data Visulization 1: Distribution of Caesarian 'Yes' or 'No' Outcomes\n",
        "caesarian_counts = raw_data['Caesarian'].value_counts()"
      ],
      "metadata": {
        "id": "-cql9moMle6z"
      },
      "execution_count": null,
      "outputs": []
    },
    {
      "cell_type": "code",
      "source": [
        "plt.bar(caesarian_counts.index, caesarian_counts.values, color=['deeppink', 'hotpink'])\n",
        "plt.xlabel('Caesarian Outcome')\n",
        "plt.ylabel('Count')\n",
        "plt.title('Distribution of Caesarian Outcomes')\n",
        "plt.xticks([0, 1], ['No', 'Yes'])"
      ],
      "metadata": {
        "colab": {
          "base_uri": "https://localhost:8080/",
          "height": 531
        },
        "id": "nB6n3wiusb9Z",
        "outputId": "3bdfbde4-94a8-4966-e840-90e6b9a9fbf6"
      },
      "execution_count": null,
      "outputs": [
        {
          "output_type": "execute_result",
          "data": {
            "text/plain": [
              "([<matplotlib.axis.XTick at 0x7d5613d29720>,\n",
              "  <matplotlib.axis.XTick at 0x7d5613d29750>],\n",
              " [Text(0, 0, 'No'), Text(1, 0, 'Yes')])"
            ]
          },
          "metadata": {},
          "execution_count": 110
        },
        {
          "output_type": "display_data",
          "data": {
            "text/plain": [
              "<Figure size 640x480 with 1 Axes>"
            ],
            "image/png": "[encoded data removed]"
          },
          "metadata": {}
        }
      ]
    },
    {
      "cell_type": "code",
      "source": [
        "raw_data"
      ],
      "metadata": {
        "colab": {
          "base_uri": "https://localhost:8080/",
          "height": 436
        },
        "id": "WfPkOZax4hmV",
        "outputId": "1734d129-a76a-4522-ae7e-24ff5b5e819b"
      },
      "execution_count": null,
      "outputs": [
        {
          "output_type": "execute_result",
          "data": {
            "text/plain": [
              "   Age Delivery number Delivery time Blood of Pressure Heart Problem Caesarian\n",
              "0   22               1             0                 2             0         0\n",
              "1   26               2             0                 1             0         1\n",
              "2   26               2             1                 1             0         0\n",
              "3   28               1             0                 2             0         0\n",
              "4   22               2             0                 1             0         1\n",
              "..  ..             ...           ...               ...           ...       ...\n",
              "75  27               2             1                 1             0         0\n",
              "76  33               4             0                 1             0         1\n",
              "77  29               2             1                 2             0         1\n",
              "78  25               1             2                 0             0         1\n",
              "79  24               2             2                 1             0         0\n",
              "\n",
              "[80 rows x 6 columns]"
            ],
            "text/html": [
              "\n",
              "  <div id=\"df-26b6579b-fb57-4016-ae2f-e30c8889ff99\" class=\"colab-df-container\">\n",
              "    <div>\n",
              "<style scoped>\n",
              "    .dataframe tbody tr th:only-of-type {\n",
              "        vertical-align: middle;\n",
              "    }\n",
              "\n",
              "    .dataframe tbody tr th {\n",
              "        vertical-align: top;\n",
              "    }\n",
              "\n",
              "    .dataframe thead th {\n",
              "        text-align: right;\n",
              "    }\n",
              "</style>\n",
              "<table border=\"1\" class=\"dataframe\">\n",
              "  <thead>\n",
              "    <tr style=\"text-align: right;\">\n",
              "      <th></th>\n",
              "      <th>Age</th>\n",
              "      <th>Delivery number</th>\n",
              "      <th>Delivery time</th>\n",
              "      <th>Blood of Pressure</th>\n",
              "      <th>Heart Problem</th>\n",
              "      <th>Caesarian</th>\n",
              "    </tr>\n",
              "  </thead>\n",
              "  <tbody>\n",
              "    <tr>\n",
              "      <th>0</th>\n",
              "      <td>22</td>\n",
              "      <td>1</td>\n",
              "      <td>0</td>\n",
              "      <td>2</td>\n",
              "      <td>0</td>\n",
              "      <td>0</td>\n",
              "    </tr>\n",
              "    <tr>\n",
              "      <th>1</th>\n",
              "      <td>26</td>\n",
              "      <td>2</td>\n",
              "      <td>0</td>\n",
              "      <td>1</td>\n",
              "      <td>0</td>\n",
              "      <td>1</td>\n",
              "    </tr>\n",
              "    <tr>\n",
              "      <th>2</th>\n",
              "      <td>26</td>\n",
              "      <td>2</td>\n",
              "      <td>1</td>\n",
              "      <td>1</td>\n",
              "      <td>0</td>\n",
              "      <td>0</td>\n",
              "    </tr>\n",
              "    <tr>\n",
              "      <th>3</th>\n",
              "      <td>28</td>\n",
              "      <td>1</td>\n",
              "      <td>0</td>\n",
              "      <td>2</td>\n",
              "      <td>0</td>\n",
              "      <td>0</td>\n",
              "    </tr>\n",
              "    <tr>\n",
              "      <th>4</th>\n",
              "      <td>22</td>\n",
              "      <td>2</td>\n",
              "      <td>0</td>\n",
              "      <td>1</td>\n",
              "      <td>0</td>\n",
              "      <td>1</td>\n",
              "    </tr>\n",
              "    <tr>\n",
              "      <th>...</th>\n",
              "      <td>...</td>\n",
              "      <td>...</td>\n",
              "      <td>...</td>\n",
              "      <td>...</td>\n",
              "      <td>...</td>\n",
              "      <td>...</td>\n",
              "    </tr>\n",
              "    <tr>\n",
              "      <th>75</th>\n",
              "      <td>27</td>\n",
              "      <td>2</td>\n",
              "      <td>1</td>\n",
              "      <td>1</td>\n",
              "      <td>0</td>\n",
              "      <td>0</td>\n",
              "    </tr>\n",
              "    <tr>\n",
              "      <th>76</th>\n",
              "      <td>33</td>\n",
              "      <td>4</td>\n",
              "      <td>0</td>\n",
              "      <td>1</td>\n",
              "      <td>0</td>\n",
              "      <td>1</td>\n",
              "    </tr>\n",
              "    <tr>\n",
              "      <th>77</th>\n",
              "      <td>29</td>\n",
              "      <td>2</td>\n",
              "      <td>1</td>\n",
              "      <td>2</td>\n",
              "      <td>0</td>\n",
              "      <td>1</td>\n",
              "    </tr>\n",
              "    <tr>\n",
              "      <th>78</th>\n",
              "      <td>25</td>\n",
              "      <td>1</td>\n",
              "      <td>2</td>\n",
              "      <td>0</td>\n",
              "      <td>0</td>\n",
              "      <td>1</td>\n",
              "    </tr>\n",
              "    <tr>\n",
              "      <th>79</th>\n",
              "      <td>24</td>\n",
              "      <td>2</td>\n",
              "      <td>2</td>\n",
              "      <td>1</td>\n",
              "      <td>0</td>\n",
              "      <td>0</td>\n",
              "    </tr>\n",
              "  </tbody>\n",
              "</table>\n",
              "<p>80 rows × 6 columns</p>\n",
              "</div>\n",
              "    <div class=\"colab-df-buttons\">\n",
              "\n",
              "  <div class=\"colab-df-container\">\n",
              "    <button class=\"colab-df-convert\" onclick=\"convertToInteractive('df-26b6579b-fb57-4016-ae2f-e30c8889ff99')\"\n",
              "            title=\"Convert this dataframe to an interactive table.\"\n",
              "            style=\"display:none;\">\n",
              "\n",
              "  <svg xmlns=\"http://www.w3.org/2000/svg\" height=\"24px\" viewBox=\"0 -960 960 960\">\n",
              "    <path d=\"M120-120v-720h720v720H120Zm60-500h600v-160H180v160Zm220 220h160v-160H400v160Zm0 220h160v-160H400v160ZM180-400h160v-160H180v160Zm440 0h160v-160H620v160ZM180-180h160v-160H180v160Zm440 0h160v-160H620v160Z\"/>\n",
              "  </svg>\n",
              "    </button>\n",
              "\n",
              "  <style>\n",
              "    .colab-df-container {\n",
              "      display:flex;\n",
              "      gap: 12px;\n",
              "    }\n",
              "\n",
              "    .colab-df-convert {\n",
              "      background-color: #E8F0FE;\n",
              "      border: none;\n",
              "      border-radius: 50%;\n",
              "      cursor: pointer;\n",
              "      display: none;\n",
              "      fill: #1967D2;\n",
              "      height: 32px;\n",
              "      padding: 0 0 0 0;\n",
              "      width: 32px;\n",
              "    }\n",
              "\n",
              "    .colab-df-convert:hover {\n",
              "      background-color: #E2EBFA;\n",
              "      box-shadow: 0px 1px 2px rgba(60, 64, 67, 0.3), 0px 1px 3px 1px rgba(60, 64, 67, 0.15);\n",
              "      fill: #174EA6;\n",
              "    }\n",
              "\n",
              "    .colab-df-buttons div {\n",
              "      margin-bottom: 4px;\n",
              "    }\n",
              "\n",
              "    [theme=dark] .colab-df-convert {\n",
              "      background-color: #3B4455;\n",
              "      fill: #D2E3FC;\n",
              "    }\n",
              "\n",
              "    [theme=dark] .colab-df-convert:hover {\n",
              "      background-color: #434B5C;\n",
              "      box-shadow: 0px 1px 3px 1px rgba(0, 0, 0, 0.15);\n",
              "      filter: drop-shadow(0px 1px 2px rgba(0, 0, 0, 0.3));\n",
              "      fill: #FFFFFF;\n",
              "    }\n",
              "  </style>\n",
              "\n",
              "    <script>\n",
              "      const buttonEl =\n",
              "        document.querySelector('#df-26b6579b-fb57-4016-ae2f-e30c8889ff99 button.colab-df-convert');\n",
              "      buttonEl.style.display =\n",
              "        google.colab.kernel.accessAllowed ? 'block' : 'none';\n",
              "\n",
              "      async function convertToInteractive(key) {\n",
              "        const element = document.querySelector('#df-26b6579b-fb57-4016-ae2f-e30c8889ff99');\n",
              "        const dataTable =\n",
              "          await google.colab.kernel.invokeFunction('convertToInteractive',\n",
              "                                                    [key], {});\n",
              "        if (!dataTable) return;\n",
              "\n",
              "        const docLinkHtml = 'Like what you see? Visit the ' +\n",
              "          '<a target=\"_blank\" href=https://colab.research.google.com/notebooks/data_table.ipynb>data table notebook</a>'\n",
              "          + ' to learn more about interactive tables.';\n",
              "        element.innerHTML = '';\n",
              "        dataTable['output_type'] = 'display_data';\n",
              "        await google.colab.output.renderOutput(dataTable, element);\n",
              "        const docLink = document.createElement('div');\n",
              "        docLink.innerHTML = docLinkHtml;\n",
              "        element.appendChild(docLink);\n",
              "      }\n",
              "    </script>\n",
              "  </div>\n",
              "\n",
              "\n",
              "<div id=\"df-b6733304-ee9b-4e1b-80fb-407c345b0279\">\n",
              "  <button class=\"colab-df-quickchart\" onclick=\"quickchart('df-b6733304-ee9b-4e1b-80fb-407c345b0279')\"\n",
              "            title=\"Suggest charts\"\n",
              "            style=\"display:none;\">\n",
              "\n",
              "<svg xmlns=\"http://www.w3.org/2000/svg\" height=\"24px\"viewBox=\"0 0 24 24\"\n",
              "     width=\"24px\">\n",
              "    <g>\n",
              "        <path d=\"M19 3H5c-1.1 0-2 .9-2 2v14c0 1.1.9 2 2 2h14c1.1 0 2-.9 2-2V5c0-1.1-.9-2-2-2zM9 17H7v-7h2v7zm4 0h-2V7h2v10zm4 0h-2v-4h2v4z\"/>\n",
              "    </g>\n",
              "</svg>\n",
              "  </button>\n",
              "\n",
              "<style>\n",
              "  .colab-df-quickchart {\n",
              "      --bg-color: #E8F0FE;\n",
              "      --fill-color: #1967D2;\n",
              "      --hover-bg-color: #E2EBFA;\n",
              "      --hover-fill-color: #174EA6;\n",
              "      --disabled-fill-color: #AAA;\n",
              "      --disabled-bg-color: #DDD;\n",
              "  }\n",
              "\n",
              "  [theme=dark] .colab-df-quickchart {\n",
              "      --bg-color: #3B4455;\n",
              "      --fill-color: #D2E3FC;\n",
              "      --hover-bg-color: #434B5C;\n",
              "      --hover-fill-color: #FFFFFF;\n",
              "      --disabled-bg-color: #3B4455;\n",
              "      --disabled-fill-color: #666;\n",
              "  }\n",
              "\n",
              "  .colab-df-quickchart {\n",
              "    background-color: var(--bg-color);\n",
              "    border: none;\n",
              "    border-radius: 50%;\n",
              "    cursor: pointer;\n",
              "    display: none;\n",
              "    fill: var(--fill-color);\n",
              "    height: 32px;\n",
              "    padding: 0;\n",
              "    width: 32px;\n",
              "  }\n",
              "\n",
              "  .colab-df-quickchart:hover {\n",
              "    background-color: var(--hover-bg-color);\n",
              "    box-shadow: 0 1px 2px rgba(60, 64, 67, 0.3), 0 1px 3px 1px rgba(60, 64, 67, 0.15);\n",
              "    fill: var(--button-hover-fill-color);\n",
              "  }\n",
              "\n",
              "  .colab-df-quickchart-complete:disabled,\n",
              "  .colab-df-quickchart-complete:disabled:hover {\n",
              "    background-color: var(--disabled-bg-color);\n",
              "    fill: var(--disabled-fill-color);\n",
              "    box-shadow: none;\n",
              "  }\n",
              "\n",
              "  .colab-df-spinner {\n",
              "    border: 2px solid var(--fill-color);\n",
              "    border-color: transparent;\n",
              "    border-bottom-color: var(--fill-color);\n",
              "    animation:\n",
              "      spin 1s steps(1) infinite;\n",
              "  }\n",
              "\n",
              "  @keyframes spin {\n",
              "    0% {\n",
              "      border-color: transparent;\n",
              "      border-bottom-color: var(--fill-color);\n",
              "      border-left-color: var(--fill-color);\n",
              "    }\n",
              "    20% {\n",
              "      border-color: transparent;\n",
              "      border-left-color: var(--fill-color);\n",
              "      border-top-color: var(--fill-color);\n",
              "    }\n",
              "    30% {\n",
              "      border-color: transparent;\n",
              "      border-left-color: var(--fill-color);\n",
              "      border-top-color: var(--fill-color);\n",
              "      border-right-color: var(--fill-color);\n",
              "    }\n",
              "    40% {\n",
              "      border-color: transparent;\n",
              "      border-right-color: var(--fill-color);\n",
              "      border-top-color: var(--fill-color);\n",
              "    }\n",
              "    60% {\n",
              "      border-color: transparent;\n",
              "      border-right-color: var(--fill-color);\n",
              "    }\n",
              "    80% {\n",
              "      border-color: transparent;\n",
              "      border-right-color: var(--fill-color);\n",
              "      border-bottom-color: var(--fill-color);\n",
              "    }\n",
              "    90% {\n",
              "      border-color: transparent;\n",
              "      border-bottom-color: var(--fill-color);\n",
              "    }\n",
              "  }\n",
              "</style>\n",
              "\n",
              "  <script>\n",
              "    async function quickchart(key) {\n",
              "      const quickchartButtonEl =\n",
              "        document.querySelector('#' + key + ' button');\n",
              "      quickchartButtonEl.disabled = true;  // To prevent multiple clicks.\n",
              "      quickchartButtonEl.classList.add('colab-df-spinner');\n",
              "      try {\n",
              "        const charts = await google.colab.kernel.invokeFunction(\n",
              "            'suggestCharts', [key], {});\n",
              "      } catch (error) {\n",
              "        console.error('Error during call to suggestCharts:', error);\n",
              "      }\n",
              "      quickchartButtonEl.classList.remove('colab-df-spinner');\n",
              "      quickchartButtonEl.classList.add('colab-df-quickchart-complete');\n",
              "    }\n",
              "    (() => {\n",
              "      let quickchartButtonEl =\n",
              "        document.querySelector('#df-b6733304-ee9b-4e1b-80fb-407c345b0279 button');\n",
              "      quickchartButtonEl.style.display =\n",
              "        google.colab.kernel.accessAllowed ? 'block' : 'none';\n",
              "    })();\n",
              "  </script>\n",
              "</div>\n",
              "    </div>\n",
              "  </div>\n"
            ]
          },
          "metadata": {},
          "execution_count": 111
        }
      ]
    },
    {
      "cell_type": "code",
      "source": [
        "cesarean_yes_data = raw_data[raw_data['Caesarian'] == 1]"
      ],
      "metadata": {
        "id": "ub2IfKYK4zez"
      },
      "execution_count": null,
      "outputs": []
    },
    {
      "cell_type": "code",
      "source": [
        "print(cesarean_yes_data)"
      ],
      "metadata": {
        "colab": {
          "base_uri": "https://localhost:8080/"
        },
        "id": "clRmSRSV7K13",
        "outputId": "34b4a2a8-e9ac-4546-86cc-fcb5e5c746e9"
      },
      "execution_count": null,
      "outputs": [
        {
          "output_type": "stream",
          "name": "stdout",
          "text": [
            "Empty DataFrame\n",
            "Columns: [Age, Delivery number, Delivery time, Blood of Pressure, Heart Problem, Caesarian]\n",
            "Index: []\n"
          ]
        }
      ]
    },
    {
      "cell_type": "code",
      "source": [
        "print(raw_data['Caesarian'].value_counts())"
      ],
      "metadata": {
        "colab": {
          "base_uri": "https://localhost:8080/"
        },
        "id": "KbZon5IQ7f9n",
        "outputId": "7d5099ee-70df-45ad-a32e-15f15f72e210"
      },
      "execution_count": null,
      "outputs": [
        {
          "output_type": "stream",
          "name": "stdout",
          "text": [
            "1    46\n",
            "0    34\n",
            "Name: Caesarian, dtype: int64\n"
          ]
        }
      ]
    },
    {
      "cell_type": "code",
      "source": [
        "raw_data['Caesarian'] = raw_data['Caesarian'].astype(int)"
      ],
      "metadata": {
        "id": "38bVhyl989-n"
      },
      "execution_count": null,
      "outputs": []
    },
    {
      "cell_type": "code",
      "source": [
        "cesarean_yes_data = raw_data[raw_data['Caesarian'] == 1]"
      ],
      "metadata": {
        "id": "XCHT8Xtq9D10"
      },
      "execution_count": null,
      "outputs": []
    },
    {
      "cell_type": "code",
      "source": [
        "print(cesarean_yes_data)"
      ],
      "metadata": {
        "colab": {
          "base_uri": "https://localhost:8080/"
        },
        "id": "KbTlZM_x9KdB",
        "outputId": "30f24bea-c08f-4639-c900-7c151b8e781d"
      },
      "execution_count": null,
      "outputs": [
        {
          "output_type": "stream",
          "name": "stdout",
          "text": [
            "   Age Delivery number Delivery time Blood of Pressure Heart Problem  \\\n",
            "1   26               2             0                 1             0   \n",
            "4   22               2             0                 1             0   \n",
            "7   32               3             0                 1             0   \n",
            "9   27               1             1                 1             0   \n",
            "11  33               1             1                 0             0   \n",
            "14  29               1             2                 0             1   \n",
            "17  20               1             2                 2             0   \n",
            "18  37               3             0                 1             1   \n",
            "19  24               1             2                 0             1   \n",
            "21  33               2             0                 0             1   \n",
            "23  27               1             0                 0             1   \n",
            "24  20               1             0                 2             1   \n",
            "26  18               1             1                 2             1   \n",
            "28  32               1             0                 2             1   \n",
            "31  40               1             0                 1             1   \n",
            "32  32               2             0                 2             1   \n",
            "33  27               2             0                 1             1   \n",
            "34  26               2             2                 1             0   \n",
            "35  28               3             0                 2             0   \n",
            "39  26               1             2                 0             1   \n",
            "40  27               1             0                 2             1   \n",
            "41  19               1             0                 1             0   \n",
            "42  36               1             1                 2             0   \n",
            "43  22               1             0                 1             0   \n",
            "44  36               4             0                 2             1   \n",
            "45  28               3             0                 1             1   \n",
            "47  32               2             0                 2             1   \n",
            "49  29               2             0                 0             1   \n",
            "51  21               2             1                 0             1   \n",
            "54  29               2             0                 1             1   \n",
            "56  32               3             1                 0             1   \n",
            "57  21               1             0                 0             0   \n",
            "58  26               1             0                 2             0   \n",
            "59  30               2             1                 2             1   \n",
            "61  19               1             0                 1             0   \n",
            "62  32               2             0                 0             0   \n",
            "63  32               2             0                 1             1   \n",
            "65  35               2             0                 1             0   \n",
            "66  28               3             0                 1             0   \n",
            "68  25               1             0                 0             0   \n",
            "70  17               1             0                 0             0   \n",
            "71  29               1             2                 0             1   \n",
            "74  38               3             2                 2             1   \n",
            "76  33               4             0                 1             0   \n",
            "77  29               2             1                 2             0   \n",
            "78  25               1             2                 0             0   \n",
            "\n",
            "    Caesarian  \n",
            "1           1  \n",
            "4           1  \n",
            "7           1  \n",
            "9           1  \n",
            "11          1  \n",
            "14          1  \n",
            "17          1  \n",
            "18          1  \n",
            "19          1  \n",
            "21          1  \n",
            "23          1  \n",
            "24          1  \n",
            "26          1  \n",
            "28          1  \n",
            "31          1  \n",
            "32          1  \n",
            "33          1  \n",
            "34          1  \n",
            "35          1  \n",
            "39          1  \n",
            "40          1  \n",
            "41          1  \n",
            "42          1  \n",
            "43          1  \n",
            "44          1  \n",
            "45          1  \n",
            "47          1  \n",
            "49          1  \n",
            "51          1  \n",
            "54          1  \n",
            "56          1  \n",
            "57          1  \n",
            "58          1  \n",
            "59          1  \n",
            "61          1  \n",
            "62          1  \n",
            "63          1  \n",
            "65          1  \n",
            "66          1  \n",
            "68          1  \n",
            "70          1  \n",
            "71          1  \n",
            "74          1  \n",
            "76          1  \n",
            "77          1  \n",
            "78          1  \n"
          ]
        }
      ]
    },
    {
      "cell_type": "code",
      "source": [
        "#Data Visualization 2: Distribution of Cesarian '1'= Yes Outcomes by Delivery Time\n",
        "delivery_time_counts = cesarean_yes_data['Delivery time'].value_counts()"
      ],
      "metadata": {
        "id": "aYEMht909xWN"
      },
      "execution_count": null,
      "outputs": []
    },
    {
      "cell_type": "code",
      "source": [
        "delivery_time_mapping = {0: 'Timely', 1: 'Premature', 2: 'Latecomer'}"
      ],
      "metadata": {
        "id": "WbOp7tPstpDZ"
      },
      "execution_count": null,
      "outputs": []
    },
    {
      "cell_type": "code",
      "source": [
        "delivery_time_labels = [delivery_time_mapping[int(index)] for index in delivery_time_counts.index]"
      ],
      "metadata": {
        "id": "krcTPWafttV2"
      },
      "execution_count": null,
      "outputs": []
    },
    {
      "cell_type": "code",
      "source": [
        "plt.pie(delivery_time_counts.values, labels=delivery_time_counts.index, autopct='%1.1f%%', startangle=90, colors=['mistyrose', 'lightpink', 'rosybrown'])\n",
        "plt.xlabel('Delivery Time for Cesarean Outcomes')\n",
        "plt.ylabel('Count')\n",
        "plt.title('Distribution of \"Yes\" Cesarean Outcomes by Delivery Time')\n",
        "plt.legend(title='Delivery Time', labels= [f\"{key} - {value}\" for key, value in delivery_time_mapping.items()],loc='upper left')\n",
        "plt.show()"
      ],
      "metadata": {
        "colab": {
          "base_uri": "https://localhost:8080/",
          "height": 452
        },
        "id": "WUy6mAIm9zaH",
        "outputId": "582f67d4-5b03-40c8-ecca-cd94463ce09e"
      },
      "execution_count": null,
      "outputs": [
        {
          "output_type": "display_data",
          "data": {
            "text/plain": [
              "<Figure size 640x480 with 1 Axes>"
            ],
            "image/png": "[encoded data removed]"
          },
          "metadata": {}
        }
      ]
    },
    {
      "cell_type": "code",
      "source": [
        "raw_data = pd.read_csv('/content/gdrive/My Drive/HI2022_Final/caesarian.csv.arff')"
      ],
      "metadata": {
        "id": "_aSd36sIf_Np"
      },
      "execution_count": null,
      "outputs": []
    },
    {
      "cell_type": "code",
      "source": [
        "print(raw_data.columns)"
      ],
      "metadata": {
        "id": "mSZN2H5mgQPE",
        "outputId": "e78fec34-78f4-4af2-d28e-54a0722299bc",
        "colab": {
          "base_uri": "https://localhost:8080/"
        }
      },
      "execution_count": null,
      "outputs": [
        {
          "output_type": "stream",
          "name": "stdout",
          "text": [
            "Index(['@relation caesarian'], dtype='object')\n"
          ]
        }
      ]
    },
    {
      "cell_type": "code",
      "source": [
        "data, meta = arff.loadarff('/content/gdrive/My Drive/HI2022_Final/caesarian.csv.arff')"
      ],
      "metadata": {
        "id": "Nrr9lARTgQYe"
      },
      "execution_count": null,
      "outputs": []
    },
    {
      "cell_type": "code",
      "source": [
        "raw_data = pd.DataFrame(data)"
      ],
      "metadata": {
        "id": "LTi-LR35gQhJ"
      },
      "execution_count": null,
      "outputs": []
    },
    {
      "cell_type": "code",
      "source": [
        "for column in raw_data.columns:\n",
        "  raw_data[column] = raw_data[column].str.decode('utf-8', errors='ignore')"
      ],
      "metadata": {
        "id": "U1Ob_LAugQrV"
      },
      "execution_count": null,
      "outputs": []
    },
    {
      "cell_type": "code",
      "source": [
        "print(raw_data)"
      ],
      "metadata": {
        "colab": {
          "base_uri": "https://localhost:8080/"
        },
        "id": "p1O650ex2Fki",
        "outputId": "a40975a9-7b3e-40d7-ffb7-5ed2276618cc"
      },
      "execution_count": null,
      "outputs": [
        {
          "output_type": "stream",
          "name": "stdout",
          "text": [
            "   Age Delivery number Delivery time Blood of Pressure Heart Problem Caesarian\n",
            "0   22               1             0                 2             0         0\n",
            "1   26               2             0                 1             0         1\n",
            "2   26               2             1                 1             0         0\n",
            "3   28               1             0                 2             0         0\n",
            "4   22               2             0                 1             0         1\n",
            "..  ..             ...           ...               ...           ...       ...\n",
            "75  27               2             1                 1             0         0\n",
            "76  33               4             0                 1             0         1\n",
            "77  29               2             1                 2             0         1\n",
            "78  25               1             2                 0             0         1\n",
            "79  24               2             2                 1             0         0\n",
            "\n",
            "[80 rows x 6 columns]\n"
          ]
        }
      ]
    },
    {
      "cell_type": "code",
      "source": [
        "print(raw_data[raw_data['Caesarian'] == '1'])"
      ],
      "metadata": {
        "colab": {
          "base_uri": "https://localhost:8080/"
        },
        "id": "2vo3MFn_Lumf",
        "outputId": "2453c7c0-1ac1-465e-b113-bf1eaff0a2b9"
      },
      "execution_count": null,
      "outputs": [
        {
          "output_type": "stream",
          "name": "stdout",
          "text": [
            "   Age Delivery number Delivery time Blood of Pressure Heart Problem Caesarian\n",
            "1   26               2             0                 1             0         1\n",
            "4   22               2             0                 1             0         1\n",
            "7   32               3             0                 1             0         1\n",
            "9   27               1             1                 1             0         1\n",
            "11  33               1             1                 0             0         1\n",
            "14  29               1             2                 0             1         1\n",
            "17  20               1             2                 2             0         1\n",
            "18  37               3             0                 1             1         1\n",
            "19  24               1             2                 0             1         1\n",
            "21  33               2             0                 0             1         1\n",
            "23  27               1             0                 0             1         1\n",
            "24  20               1             0                 2             1         1\n",
            "26  18               1             1                 2             1         1\n",
            "28  32               1             0                 2             1         1\n",
            "31  40               1             0                 1             1         1\n",
            "32  32               2             0                 2             1         1\n",
            "33  27               2             0                 1             1         1\n",
            "34  26               2             2                 1             0         1\n",
            "35  28               3             0                 2             0         1\n",
            "39  26               1             2                 0             1         1\n",
            "40  27               1             0                 2             1         1\n",
            "41  19               1             0                 1             0         1\n",
            "42  36               1             1                 2             0         1\n",
            "43  22               1             0                 1             0         1\n",
            "44  36               4             0                 2             1         1\n",
            "45  28               3             0                 1             1         1\n",
            "47  32               2             0                 2             1         1\n",
            "49  29               2             0                 0             1         1\n",
            "51  21               2             1                 0             1         1\n",
            "54  29               2             0                 1             1         1\n",
            "56  32               3             1                 0             1         1\n",
            "57  21               1             0                 0             0         1\n",
            "58  26               1             0                 2             0         1\n",
            "59  30               2             1                 2             1         1\n",
            "61  19               1             0                 1             0         1\n",
            "62  32               2             0                 0             0         1\n",
            "63  32               2             0                 1             1         1\n",
            "65  35               2             0                 1             0         1\n",
            "66  28               3             0                 1             0         1\n",
            "68  25               1             0                 0             0         1\n",
            "70  17               1             0                 0             0         1\n",
            "71  29               1             2                 0             1         1\n",
            "74  38               3             2                 2             1         1\n",
            "76  33               4             0                 1             0         1\n",
            "77  29               2             1                 2             0         1\n",
            "78  25               1             2                 0             0         1\n"
          ]
        }
      ]
    },
    {
      "cell_type": "code",
      "source": [
        "heart_problem_counts = raw_data['Heart Problem'].value_counts()"
      ],
      "metadata": {
        "id": "KRSogl-vTOPH"
      },
      "execution_count": null,
      "outputs": []
    },
    {
      "cell_type": "code",
      "source": [
        "print(\"Heart Problem Counts:\", heart_problem_counts)"
      ],
      "metadata": {
        "id": "Omm_I187RBh3",
        "outputId": "9be48bb0-ecfc-48fc-9d93-07fdb1d30bd2",
        "colab": {
          "base_uri": "https://localhost:8080/"
        }
      },
      "execution_count": null,
      "outputs": [
        {
          "output_type": "stream",
          "name": "stdout",
          "text": [
            "Heart Problem Counts: 0    50\n",
            "1    30\n",
            "Name: Heart Problem, dtype: int64\n"
          ]
        }
      ]
    },
    {
      "cell_type": "code",
      "source": [
        "blood_of_pressure_counts = raw_data['Blood of Pressure'].value_counts()"
      ],
      "metadata": {
        "id": "uhhL7xMMT41m"
      },
      "execution_count": null,
      "outputs": []
    },
    {
      "cell_type": "code",
      "source": [
        "print(\"Blood of Pressure Counts:\", blood_of_pressure_counts)"
      ],
      "metadata": {
        "id": "wMXUEQ4HT45g",
        "outputId": "b3640cd5-af7e-4641-cd58-0cf8b58346b3",
        "colab": {
          "base_uri": "https://localhost:8080/"
        }
      },
      "execution_count": null,
      "outputs": [
        {
          "output_type": "stream",
          "name": "stdout",
          "text": [
            "Blood of Pressure Counts: 1    40\n",
            "2    20\n",
            "0    20\n",
            "Name: Blood of Pressure, dtype: int64\n"
          ]
        }
      ]
    },
    {
      "cell_type": "code",
      "source": [
        "print(\"Length of Blood Pressure Counts:\", len(blood_of_pressure_counts))\n",
        "print(\"Length of Heart Problem Counts:\", len(heart_problem_counts))"
      ],
      "metadata": {
        "id": "6Qs2IOYPRBuI",
        "outputId": "5be5aed2-0fc8-4b43-d5e0-8b38c9cd8530",
        "colab": {
          "base_uri": "https://localhost:8080/"
        }
      },
      "execution_count": null,
      "outputs": [
        {
          "output_type": "stream",
          "name": "stdout",
          "text": [
            "Length of Blood Pressure Counts: 3\n",
            "Length of Heart Problem Counts: 2\n"
          ]
        }
      ]
    },
    {
      "cell_type": "code",
      "source": [
        "print(count_df)\n"
      ],
      "metadata": {
        "id": "sQw9yN9RXdzC",
        "outputId": "b84f9a9e-bcd4-457a-9397-0debfa695bd3",
        "colab": {
          "base_uri": "https://localhost:8080/"
        }
      },
      "execution_count": null,
      "outputs": [
        {
          "output_type": "stream",
          "name": "stdout",
          "text": [
            "      Condition  Count\n",
            "0    Normal Apt     11\n",
            "1     Low Inept      9\n",
            "2    High Inept      9\n",
            "3       Low Apt      6\n",
            "4  Normal Inept      6\n",
            "5      High Apt      5\n"
          ]
        }
      ]
    },
    {
      "cell_type": "code",
      "source": [
        "print(count_df[['Condition', 'Count']])"
      ],
      "metadata": {
        "id": "wElzW_ksYRBv",
        "outputId": "25ae29f0-bfc2-41e3-e15f-4e61cd128cc9",
        "colab": {
          "base_uri": "https://localhost:8080/"
        }
      },
      "execution_count": null,
      "outputs": [
        {
          "output_type": "stream",
          "name": "stdout",
          "text": [
            "      Condition  Count\n",
            "0    Normal Apt     11\n",
            "1     Low Inept      9\n",
            "2    High Inept      9\n",
            "3       Low Apt      6\n",
            "4  Normal Inept      6\n",
            "5      High Apt      5\n"
          ]
        }
      ]
    },
    {
      "cell_type": "code",
      "source": [
        "#Data Visualization 3: Relationships between Combinations of Heart Problem and Blood of Pressure Values Where Caesarian '1'= Yes\n",
        "raw_data_filtered = raw_data[raw_data['Caesarian'] == '1'].copy()"
      ],
      "metadata": {
        "id": "ulmNWVEnKyUP"
      },
      "execution_count": null,
      "outputs": []
    },
    {
      "cell_type": "code",
      "source": [
        "raw_data_filtered['Blood of Pressure'] = pd.to_numeric(raw_data_filtered['Blood of Pressure'], errors='coerce')"
      ],
      "metadata": {
        "id": "NyfnutM3PKLc"
      },
      "execution_count": null,
      "outputs": []
    },
    {
      "cell_type": "code",
      "source": [
        "raw_data_filtered['Condition'] = raw_data_filtered['Blood of Pressure'].astype(str) + ' ' + raw_data_filtered['Heart Problem'].astype(str)"
      ],
      "metadata": {
        "id": "VlU9qBazPKOk"
      },
      "execution_count": null,
      "outputs": []
    },
    {
      "cell_type": "code",
      "source": [
        "label_mapping = {\n",
        "    '0 0': 'Low Apt',\n",
        "    '0 1': 'Low Inept',\n",
        "    '1 0': 'Normal Apt',\n",
        "    '1 1': 'Normal Inept',\n",
        "    '2 0': 'High Apt',\n",
        "    '2 1': 'High Inept'\n",
        "}"
      ],
      "metadata": {
        "id": "CzCH0YD3broN"
      },
      "execution_count": null,
      "outputs": []
    },
    {
      "cell_type": "code",
      "source": [
        "raw_data_filtered['Condition'] = raw_data_filtered['Condition'].map(label_mapping)"
      ],
      "metadata": {
        "id": "7-8evlE2bwDA"
      },
      "execution_count": null,
      "outputs": []
    },
    {
      "cell_type": "code",
      "source": [
        "count_df = raw_data_filtered['Condition'].value_counts().reset_index()\n",
        "count_df.columns = ['Condition', 'Count']"
      ],
      "metadata": {
        "id": "qyhX8SrHPKRZ"
      },
      "execution_count": null,
      "outputs": []
    },
    {
      "cell_type": "code",
      "source": [
        "colors = cm.YlGnBu_r(count_df['Count'] / count_df['Count'].max())"
      ],
      "metadata": {
        "id": "ITdPufunb29a"
      },
      "execution_count": null,
      "outputs": []
    },
    {
      "cell_type": "code",
      "source": [
        "sns.set(style=\"whitegrid\")\n",
        "plt.figure(figsize=(12, 6))\n",
        "bars = plt.bar(count_df['Condition'], count_df['Count'], color=colors)\n",
        "plt.title('Relationship between Blood Pressure, Heart Problem, and Caesarian Rates (Caesarian = 1)')\n",
        "plt.xlabel('Condition')\n",
        "plt.ylabel('Count')\n",
        "plt.colorbar(cm.ScalarMappable(cmap='viridis'), ax=plt.gca(), pad=0.1).remove()\n",
        "plt.xticks(rotation=45, ha='right')\n",
        "plt.show()"
      ],
      "metadata": {
        "id": "JvlpLGYXPKUW",
        "outputId": "f9f02224-75e3-41b9-815b-9d3c6d8ec12d",
        "colab": {
          "base_uri": "https://localhost:8080/",
          "height": 505
        }
      },
      "execution_count": null,
      "outputs": [
        {
          "output_type": "display_data",
          "data": {
            "text/plain": [
              "<Figure size 1200x600 with 1 Axes>"
            ],
            "image/png": "[encoded data removed]"
          },
          "metadata": {}
        }
      ]
    },
    {
      "cell_type": "code",
      "source": [
        "print(raw_data_filtered['Blood of Pressure'].dtype)\n",
        "print(raw_data_filtered['Heart Problem'].dtype)"
      ],
      "metadata": {
        "id": "6KKLY2YIaYWy",
        "outputId": "f656782b-be05-43fb-bf76-2df175ea9066",
        "colab": {
          "base_uri": "https://localhost:8080/"
        }
      },
      "execution_count": null,
      "outputs": [
        {
          "output_type": "stream",
          "name": "stdout",
          "text": [
            "object\n",
            "object\n"
          ]
        }
      ]
    },
    {
      "cell_type": "code",
      "source": [
        "print(raw_data_filtered['Blood of Pressure'].unique())\n",
        "print(raw_data_filtered['Heart Problem'].unique())"
      ],
      "metadata": {
        "id": "C-JgLienaYcZ",
        "outputId": "9f739be7-dc30-428f-93a6-53a2180e4dd3",
        "colab": {
          "base_uri": "https://localhost:8080/"
        }
      },
      "execution_count": null,
      "outputs": [
        {
          "output_type": "stream",
          "name": "stdout",
          "text": [
            "['1' '0' '2']\n",
            "['0' '1']\n"
          ]
        }
      ]
    },
    {
      "cell_type": "code",
      "source": [
        "print(raw_data['Caesarian'].unique())"
      ],
      "metadata": {
        "id": "oG67-V6RaYex",
        "outputId": "e247139a-22e9-4faa-978f-17828ff5c3bc",
        "colab": {
          "base_uri": "https://localhost:8080/"
        }
      },
      "execution_count": null,
      "outputs": [
        {
          "output_type": "stream",
          "name": "stdout",
          "text": [
            "['0' '1']\n"
          ]
        }
      ]
    },
    {
      "cell_type": "code",
      "source": [
        "print(raw_data_filtered)\n",
        "print(raw_data_filtered.describe())"
      ],
      "metadata": {
        "id": "E0f7fb4qaYhl",
        "outputId": "ac5a46e2-5a2c-48d1-e386-037386ab1dae",
        "colab": {
          "base_uri": "https://localhost:8080/"
        }
      },
      "execution_count": null,
      "outputs": [
        {
          "output_type": "stream",
          "name": "stdout",
          "text": [
            "   Age Delivery number Delivery time Blood of Pressure Heart Problem  \\\n",
            "1   26               2             0                 1             0   \n",
            "4   22               2             0                 1             0   \n",
            "7   32               3             0                 1             0   \n",
            "9   27               1             1                 1             0   \n",
            "11  33               1             1                 0             0   \n",
            "14  29               1             2                 0             1   \n",
            "17  20               1             2                 2             0   \n",
            "18  37               3             0                 1             1   \n",
            "19  24               1             2                 0             1   \n",
            "21  33               2             0                 0             1   \n",
            "23  27               1             0                 0             1   \n",
            "24  20               1             0                 2             1   \n",
            "26  18               1             1                 2             1   \n",
            "28  32               1             0                 2             1   \n",
            "31  40               1             0                 1             1   \n",
            "32  32               2             0                 2             1   \n",
            "33  27               2             0                 1             1   \n",
            "34  26               2             2                 1             0   \n",
            "35  28               3             0                 2             0   \n",
            "39  26               1             2                 0             1   \n",
            "40  27               1             0                 2             1   \n",
            "41  19               1             0                 1             0   \n",
            "42  36               1             1                 2             0   \n",
            "43  22               1             0                 1             0   \n",
            "44  36               4             0                 2             1   \n",
            "45  28               3             0                 1             1   \n",
            "47  32               2             0                 2             1   \n",
            "49  29               2             0                 0             1   \n",
            "51  21               2             1                 0             1   \n",
            "54  29               2             0                 1             1   \n",
            "56  32               3             1                 0             1   \n",
            "57  21               1             0                 0             0   \n",
            "58  26               1             0                 2             0   \n",
            "59  30               2             1                 2             1   \n",
            "61  19               1             0                 1             0   \n",
            "62  32               2             0                 0             0   \n",
            "63  32               2             0                 1             1   \n",
            "65  35               2             0                 1             0   \n",
            "66  28               3             0                 1             0   \n",
            "68  25               1             0                 0             0   \n",
            "70  17               1             0                 0             0   \n",
            "71  29               1             2                 0             1   \n",
            "74  38               3             2                 2             1   \n",
            "76  33               4             0                 1             0   \n",
            "77  29               2             1                 2             0   \n",
            "78  25               1             2                 0             0   \n",
            "\n",
            "   Caesarian     Condition  \n",
            "1          1    Normal Apt  \n",
            "4          1    Normal Apt  \n",
            "7          1    Normal Apt  \n",
            "9          1    Normal Apt  \n",
            "11         1       Low Apt  \n",
            "14         1     Low Inept  \n",
            "17         1      High Apt  \n",
            "18         1  Normal Inept  \n",
            "19         1     Low Inept  \n",
            "21         1     Low Inept  \n",
            "23         1     Low Inept  \n",
            "24         1    High Inept  \n",
            "26         1    High Inept  \n",
            "28         1    High Inept  \n",
            "31         1  Normal Inept  \n",
            "32         1    High Inept  \n",
            "33         1  Normal Inept  \n",
            "34         1    Normal Apt  \n",
            "35         1      High Apt  \n",
            "39         1     Low Inept  \n",
            "40         1    High Inept  \n",
            "41         1    Normal Apt  \n",
            "42         1      High Apt  \n",
            "43         1    Normal Apt  \n",
            "44         1    High Inept  \n",
            "45         1  Normal Inept  \n",
            "47         1    High Inept  \n",
            "49         1     Low Inept  \n",
            "51         1     Low Inept  \n",
            "54         1  Normal Inept  \n",
            "56         1     Low Inept  \n",
            "57         1       Low Apt  \n",
            "58         1      High Apt  \n",
            "59         1    High Inept  \n",
            "61         1    Normal Apt  \n",
            "62         1       Low Apt  \n",
            "63         1  Normal Inept  \n",
            "65         1    Normal Apt  \n",
            "66         1    Normal Apt  \n",
            "68         1       Low Apt  \n",
            "70         1       Low Apt  \n",
            "71         1     Low Inept  \n",
            "74         1    High Inept  \n",
            "76         1    Normal Apt  \n",
            "77         1      High Apt  \n",
            "78         1       Low Apt  \n",
            "       Age Delivery number Delivery time Blood of Pressure Heart Problem  \\\n",
            "count   46              46            46                46            46   \n",
            "unique  20               4             3                 3             2   \n",
            "top     32               1             0                 1             1   \n",
            "freq     7              22            30                17            24   \n",
            "\n",
            "       Caesarian   Condition  \n",
            "count         46          46  \n",
            "unique         1           6  \n",
            "top            1  Normal Apt  \n",
            "freq          46          11  \n"
          ]
        }
      ]
    },
    {
      "cell_type": "code",
      "source": [
        "print(raw_data)"
      ],
      "metadata": {
        "id": "MXG6Dr-2PKXf",
        "outputId": "e79cdd5c-b3cd-4bac-f755-7a16bcf00495",
        "colab": {
          "base_uri": "https://localhost:8080/"
        }
      },
      "execution_count": null,
      "outputs": [
        {
          "output_type": "stream",
          "name": "stdout",
          "text": [
            "   Age Delivery number Delivery time Blood of Pressure Heart Problem Caesarian\n",
            "0   22               1             0                 2             0         0\n",
            "1   26               2             0                 1             0         1\n",
            "2   26               2             1                 1             0         0\n",
            "3   28               1             0                 2             0         0\n",
            "4   22               2             0                 1             0         1\n",
            "..  ..             ...           ...               ...           ...       ...\n",
            "75  27               2             1                 1             0         0\n",
            "76  33               4             0                 1             0         1\n",
            "77  29               2             1                 2             0         1\n",
            "78  25               1             2                 0             0         1\n",
            "79  24               2             2                 1             0         0\n",
            "\n",
            "[80 rows x 6 columns]\n"
          ]
        }
      ]
    },
    {
      "cell_type": "code",
      "source": [
        "print(raw_data_filtered)"
      ],
      "metadata": {
        "id": "T4MbEE7thWd4",
        "outputId": "968c14e8-9e75-4601-8417-5160ab59e927",
        "colab": {
          "base_uri": "https://localhost:8080/"
        }
      },
      "execution_count": null,
      "outputs": [
        {
          "output_type": "stream",
          "name": "stdout",
          "text": [
            "   Age Delivery number Delivery time Blood of Pressure Heart Problem  \\\n",
            "1   26               2             0                 1             0   \n",
            "4   22               2             0                 1             0   \n",
            "7   32               3             0                 1             0   \n",
            "9   27               1             1                 1             0   \n",
            "11  33               1             1                 0             0   \n",
            "14  29               1             2                 0             1   \n",
            "17  20               1             2                 2             0   \n",
            "18  37               3             0                 1             1   \n",
            "19  24               1             2                 0             1   \n",
            "21  33               2             0                 0             1   \n",
            "23  27               1             0                 0             1   \n",
            "24  20               1             0                 2             1   \n",
            "26  18               1             1                 2             1   \n",
            "28  32               1             0                 2             1   \n",
            "31  40               1             0                 1             1   \n",
            "32  32               2             0                 2             1   \n",
            "33  27               2             0                 1             1   \n",
            "34  26               2             2                 1             0   \n",
            "35  28               3             0                 2             0   \n",
            "39  26               1             2                 0             1   \n",
            "40  27               1             0                 2             1   \n",
            "41  19               1             0                 1             0   \n",
            "42  36               1             1                 2             0   \n",
            "43  22               1             0                 1             0   \n",
            "44  36               4             0                 2             1   \n",
            "45  28               3             0                 1             1   \n",
            "47  32               2             0                 2             1   \n",
            "49  29               2             0                 0             1   \n",
            "51  21               2             1                 0             1   \n",
            "54  29               2             0                 1             1   \n",
            "56  32               3             1                 0             1   \n",
            "57  21               1             0                 0             0   \n",
            "58  26               1             0                 2             0   \n",
            "59  30               2             1                 2             1   \n",
            "61  19               1             0                 1             0   \n",
            "62  32               2             0                 0             0   \n",
            "63  32               2             0                 1             1   \n",
            "65  35               2             0                 1             0   \n",
            "66  28               3             0                 1             0   \n",
            "68  25               1             0                 0             0   \n",
            "70  17               1             0                 0             0   \n",
            "71  29               1             2                 0             1   \n",
            "74  38               3             2                 2             1   \n",
            "76  33               4             0                 1             0   \n",
            "77  29               2             1                 2             0   \n",
            "78  25               1             2                 0             0   \n",
            "\n",
            "   Caesarian     Condition  \n",
            "1          1    Normal Apt  \n",
            "4          1    Normal Apt  \n",
            "7          1    Normal Apt  \n",
            "9          1    Normal Apt  \n",
            "11         1       Low Apt  \n",
            "14         1     Low Inept  \n",
            "17         1      High Apt  \n",
            "18         1  Normal Inept  \n",
            "19         1     Low Inept  \n",
            "21         1     Low Inept  \n",
            "23         1     Low Inept  \n",
            "24         1    High Inept  \n",
            "26         1    High Inept  \n",
            "28         1    High Inept  \n",
            "31         1  Normal Inept  \n",
            "32         1    High Inept  \n",
            "33         1  Normal Inept  \n",
            "34         1    Normal Apt  \n",
            "35         1      High Apt  \n",
            "39         1     Low Inept  \n",
            "40         1    High Inept  \n",
            "41         1    Normal Apt  \n",
            "42         1      High Apt  \n",
            "43         1    Normal Apt  \n",
            "44         1    High Inept  \n",
            "45         1  Normal Inept  \n",
            "47         1    High Inept  \n",
            "49         1     Low Inept  \n",
            "51         1     Low Inept  \n",
            "54         1  Normal Inept  \n",
            "56         1     Low Inept  \n",
            "57         1       Low Apt  \n",
            "58         1      High Apt  \n",
            "59         1    High Inept  \n",
            "61         1    Normal Apt  \n",
            "62         1       Low Apt  \n",
            "63         1  Normal Inept  \n",
            "65         1    Normal Apt  \n",
            "66         1    Normal Apt  \n",
            "68         1       Low Apt  \n",
            "70         1       Low Apt  \n",
            "71         1     Low Inept  \n",
            "74         1    High Inept  \n",
            "76         1    Normal Apt  \n",
            "77         1      High Apt  \n",
            "78         1       Low Apt  \n"
          ]
        }
      ]
    },
    {
      "cell_type": "code",
      "source": [
        "caesarian_counts = raw_data['Caesarian'].value_counts()\n",
        "print(caesarian_counts)"
      ],
      "metadata": {
        "id": "b2QWgyLKhjv_",
        "outputId": "92b23acb-6c71-4850-a37f-8896a25f8028",
        "colab": {
          "base_uri": "https://localhost:8080/"
        }
      },
      "execution_count": null,
      "outputs": [
        {
          "output_type": "stream",
          "name": "stdout",
          "text": [
            "1    46\n",
            "0    34\n",
            "Name: Caesarian, dtype: int64\n"
          ]
        }
      ]
    },
    {
      "cell_type": "code",
      "source": [
        "age_counts = raw_data_filtered['Age'].value_counts()\n",
        "print(age_counts)"
      ],
      "metadata": {
        "id": "02QANk6iiq4E",
        "outputId": "f29ad4b6-b729-4abe-b849-a7d7e565897d",
        "colab": {
          "base_uri": "https://localhost:8080/"
        }
      },
      "execution_count": null,
      "outputs": [
        {
          "output_type": "stream",
          "name": "stdout",
          "text": [
            "32    7\n",
            "29    5\n",
            "26    4\n",
            "27    4\n",
            "33    3\n",
            "28    3\n",
            "20    2\n",
            "25    2\n",
            "22    2\n",
            "19    2\n",
            "36    2\n",
            "21    2\n",
            "30    1\n",
            "17    1\n",
            "35    1\n",
            "40    1\n",
            "18    1\n",
            "24    1\n",
            "37    1\n",
            "38    1\n",
            "Name: Age, dtype: int64\n"
          ]
        }
      ]
    },
    {
      "cell_type": "code",
      "source": [
        "age_counts = raw_data['Age'].value_counts()\n",
        "print(age_counts)"
      ],
      "metadata": {
        "id": "sOHhnwjuV4Lx",
        "outputId": "cc572501-a664-4112-c7a8-741b100babf7",
        "colab": {
          "base_uri": "https://localhost:8080/"
        }
      },
      "execution_count": null,
      "outputs": [
        {
          "output_type": "stream",
          "name": "stdout",
          "text": [
            "26    10\n",
            "32     8\n",
            "25     7\n",
            "27     7\n",
            "29     6\n",
            "28     6\n",
            "33     5\n",
            "22     4\n",
            "20     3\n",
            "36     3\n",
            "30     3\n",
            "31     3\n",
            "21     2\n",
            "24     2\n",
            "18     2\n",
            "35     2\n",
            "19     2\n",
            "17     1\n",
            "37     1\n",
            "40     1\n",
            "23     1\n",
            "38     1\n",
            "Name: Age, dtype: int64\n"
          ]
        }
      ]
    },
    {
      "cell_type": "code",
      "source": [
        "print(raw_data_filtered['Age'].unique())"
      ],
      "metadata": {
        "id": "1YSBRKAz4ldX",
        "outputId": "30fd1d36-02bd-4016-ee9b-b02adaf127e6",
        "colab": {
          "base_uri": "https://localhost:8080/"
        }
      },
      "execution_count": null,
      "outputs": [
        {
          "output_type": "stream",
          "name": "stdout",
          "text": [
            "['26' '22' '32' '27' '33' '29' '20' '37' '24' '18' '40' '28' '19' '36'\n",
            " '21' '30' '35' '25' '17' '38']\n"
          ]
        }
      ]
    },
    {
      "cell_type": "code",
      "source": [
        "unique_values = raw_data_filtered['Age'].unique()\n",
        "print(unique_values)"
      ],
      "metadata": {
        "id": "XlKhd2J6PltM",
        "outputId": "dce3600c-53fd-4f47-c3be-6a1064f1cfda",
        "colab": {
          "base_uri": "https://localhost:8080/"
        }
      },
      "execution_count": null,
      "outputs": [
        {
          "output_type": "stream",
          "name": "stdout",
          "text": [
            "['26' '22' '32' '27' '33' '29' '20' '37' '24' '18' '40' '28' '19' '36'\n",
            " '21' '30' '35' '25' '17' '38']\n"
          ]
        }
      ]
    },
    {
      "cell_type": "code",
      "source": [
        "unique_values_caesarian = raw_data_filtered['Caesarian'].unique()\n",
        "print(unique_values_caesarian)"
      ],
      "metadata": {
        "id": "-mGMsT4vP5cg",
        "outputId": "283f47f5-b001-4792-8db4-80a477c9ea21",
        "colab": {
          "base_uri": "https://localhost:8080/"
        }
      },
      "execution_count": null,
      "outputs": [
        {
          "output_type": "stream",
          "name": "stdout",
          "text": [
            "['1']\n"
          ]
        }
      ]
    },
    {
      "cell_type": "code",
      "source": [
        "age_counts_filtered = raw_data_filtered['Age'].value_counts().sort_index()\n",
        "age_counts_raw = raw_data['Age'].value_counts().sort_index()\n",
        "\n",
        "print(\"Value counts in raw_data_filtered:\")\n",
        "print(age_counts_filtered)\n",
        "\n",
        "print(\"\\nValue counts in raw_data:\")\n",
        "print(age_counts_raw)"
      ],
      "metadata": {
        "id": "ePk1EH6kZA4T",
        "outputId": "4a06debb-79f1-4b5f-8977-9cb62616698a",
        "colab": {
          "base_uri": "https://localhost:8080/"
        }
      },
      "execution_count": null,
      "outputs": [
        {
          "output_type": "stream",
          "name": "stdout",
          "text": [
            "Value counts in raw_data_filtered:\n",
            "17    1\n",
            "18    1\n",
            "19    2\n",
            "20    2\n",
            "21    2\n",
            "22    2\n",
            "24    1\n",
            "25    2\n",
            "26    4\n",
            "27    4\n",
            "28    3\n",
            "29    5\n",
            "30    1\n",
            "32    7\n",
            "33    3\n",
            "35    1\n",
            "36    2\n",
            "37    1\n",
            "38    1\n",
            "40    1\n",
            "Name: Age, dtype: int64\n",
            "\n",
            "Value counts in raw_data:\n",
            "17     1\n",
            "18     2\n",
            "19     2\n",
            "20     3\n",
            "21     2\n",
            "22     4\n",
            "23     1\n",
            "24     2\n",
            "25     7\n",
            "26    10\n",
            "27     7\n",
            "28     6\n",
            "29     6\n",
            "30     3\n",
            "31     3\n",
            "32     8\n",
            "33     5\n",
            "35     2\n",
            "36     3\n",
            "37     1\n",
            "38     1\n",
            "40     1\n",
            "Name: Age, dtype: int64\n"
          ]
        }
      ]
    },
    {
      "cell_type": "code",
      "source": [
        "print(unique_values)"
      ],
      "metadata": {
        "id": "HUcciV1cUiMA",
        "outputId": "da9febbf-80e4-424f-f236-22dc92d72d09",
        "colab": {
          "base_uri": "https://localhost:8080/"
        }
      },
      "execution_count": null,
      "outputs": [
        {
          "output_type": "stream",
          "name": "stdout",
          "text": [
            "['26' '22' '32' '27' '33' '29' '20' '37' '24' '18' '40' '28' '19' '36'\n",
            " '21' '30' '35' '25' '17' '38']\n"
          ]
        }
      ]
    },
    {
      "cell_type": "code",
      "source": [
        "print((raw_data_filtered).dtypes)"
      ],
      "metadata": {
        "id": "7Xqa1vsMz8C8",
        "outputId": "aa31f203-abc0-41b5-851f-e0ec2c139f83",
        "colab": {
          "base_uri": "https://localhost:8080/"
        }
      },
      "execution_count": null,
      "outputs": [
        {
          "output_type": "stream",
          "name": "stdout",
          "text": [
            "Age                  object\n",
            "Delivery number      object\n",
            "Delivery time        object\n",
            "Blood of Pressure    object\n",
            "Heart Problem        object\n",
            "Caesarian            object\n",
            "Condition            object\n",
            "dtype: object\n"
          ]
        }
      ]
    },
    {
      "cell_type": "code",
      "source": [
        "unique_ages_raw_data = raw_data['Age'].unique()\n",
        "unique_ages_filtered = raw_data_filtered['Age'].unique()"
      ],
      "metadata": {
        "id": "Vw_CjwVxSfT_"
      },
      "execution_count": null,
      "outputs": []
    },
    {
      "cell_type": "code",
      "source": [
        "print(\"Unique Ages in raw_data:\", unique_ages_raw_data)\n",
        "print(\"Unique Ages in raw_data_filtered:\", unique_ages_filtered)"
      ],
      "metadata": {
        "id": "ZpVdJY8uWVKX",
        "outputId": "2bf30086-6e34-468e-a765-bfac4b7696da",
        "colab": {
          "base_uri": "https://localhost:8080/"
        }
      },
      "execution_count": null,
      "outputs": [
        {
          "output_type": "stream",
          "name": "stdout",
          "text": [
            "Unique Ages in raw_data: ['22' '26' '28' '27' '32' '36' '33' '23' '20' '29' '25' '37' '24' '18'\n",
            " '30' '40' '31' '19' '21' '35' '17' '38']\n",
            "Unique Ages in raw_data_filtered: ['26' '22' '32' '27' '33' '29' '20' '37' '24' '18' '40' '28' '19' '36'\n",
            " '21' '30' '35' '25' '17' '38']\n"
          ]
        }
      ]
    },
    {
      "cell_type": "code",
      "source": [
        "missing_values_filtered = raw_data_filtered[raw_data_filtered['Age'].isnull()]\n",
        "print(\"Missing values in raw_data_filtered:\", missing_values_filtered)"
      ],
      "metadata": {
        "id": "WKyFhbXQWVNc",
        "outputId": "7679ed01-eac9-4628-cc49-cf038fa52f34",
        "colab": {
          "base_uri": "https://localhost:8080/"
        }
      },
      "execution_count": null,
      "outputs": [
        {
          "output_type": "stream",
          "name": "stdout",
          "text": [
            "Missing values in raw_data_filtered: Empty DataFrame\n",
            "Columns: [Age, Delivery number, Delivery time, Blood of Pressure, Heart Problem, Caesarian, Condition]\n",
            "Index: []\n"
          ]
        }
      ]
    },
    {
      "cell_type": "code",
      "source": [
        "non_numeric_values_raw_data = raw_data[~raw_data['Age'].str.isnumeric()]\n",
        "print(\"Non-numeric values in raw_data:\", non_numeric_values_raw_data)\n"
      ],
      "metadata": {
        "id": "WllOnz5bWVQj",
        "outputId": "3c87e20e-6d45-4a56-d1fe-b2c6866f4c3f",
        "colab": {
          "base_uri": "https://localhost:8080/"
        }
      },
      "execution_count": null,
      "outputs": [
        {
          "output_type": "stream",
          "name": "stdout",
          "text": [
            "Non-numeric values in raw_data: Empty DataFrame\n",
            "Columns: [Age, Delivery number, Delivery time, Blood of Pressure, Heart Problem, Caesarian]\n",
            "Index: []\n"
          ]
        }
      ]
    },
    {
      "cell_type": "code",
      "source": [
        "#Data Visualization 3: Distribution of Caesarian 'Yes' by Age\n",
        "age_counts_filtered = raw_data_filtered['Age'].value_counts().sort_index()"
      ],
      "metadata": {
        "id": "h-zUtRW2MMu8"
      },
      "execution_count": null,
      "outputs": []
    },
    {
      "cell_type": "code",
      "source": [
        "print(\"Value counts in raw_data_filtered:\")\n",
        "print(age_counts_filtered)"
      ],
      "metadata": {
        "id": "gkE5KEFXMM4n",
        "outputId": "5ce6d66c-5023-4cf5-ec86-65c8a190f4f7",
        "colab": {
          "base_uri": "https://localhost:8080/"
        }
      },
      "execution_count": null,
      "outputs": [
        {
          "output_type": "stream",
          "name": "stdout",
          "text": [
            "Value counts in raw_data_filtered:\n",
            "17    1\n",
            "18    1\n",
            "19    2\n",
            "20    2\n",
            "21    2\n",
            "22    2\n",
            "24    1\n",
            "25    2\n",
            "26    4\n",
            "27    4\n",
            "28    3\n",
            "29    5\n",
            "30    1\n",
            "32    7\n",
            "33    3\n",
            "35    1\n",
            "36    2\n",
            "37    1\n",
            "38    1\n",
            "40    1\n",
            "Name: Age, dtype: int64\n"
          ]
        }
      ]
    },
    {
      "cell_type": "code",
      "source": [
        "raw_data_filtered['Age'] = pd.to_numeric(raw_data_filtered['Age'], errors='coerce')"
      ],
      "metadata": {
        "id": "T58eYLwDWVTA"
      },
      "execution_count": null,
      "outputs": []
    },
    {
      "cell_type": "code",
      "source": [
        "age_counts_filtered = raw_data_filtered['Age'].value_counts().sort_index()"
      ],
      "metadata": {
        "id": "EWNS2f3bNYJ8"
      },
      "execution_count": null,
      "outputs": []
    },
    {
      "cell_type": "code",
      "source": [
        "plt.bar(age_counts_filtered.index, height=age_counts_filtered.values,\n",
        "color=plt.cm.spring(age_counts_filtered.values/age_counts_filtered.values.max()), alpha=0.7)\n",
        "plt.xlabel('Age')\n",
        "plt.ylabel('Count')\n",
        "plt.title('Distribution of Caesarian \"Yes\" by Age')\n",
        "plt.xticks(age_counts_filtered.index)\n",
        "plt.show()"
      ],
      "metadata": {
        "id": "h7xF4hR_WVaE",
        "outputId": "87ad8fd9-d944-4fe9-a484-d295d58798c4",
        "colab": {
          "base_uri": "https://localhost:8080/",
          "height": 480
        }
      },
      "execution_count": null,
      "outputs": [
        {
          "output_type": "display_data",
          "data": {
            "text/plain": [
              "<Figure size 640x480 with 1 Axes>"
            ],
            "image/png": "[encoded data removed]"
          },
          "metadata": {}
        }
      ]
    },
    {
      "cell_type": "code",
      "source": [
        "print(raw_data)"
      ],
      "metadata": {
        "id": "3QpTCQw4ekCh",
        "outputId": "a863a024-1e55-4997-d2d1-fb47e7704410",
        "colab": {
          "base_uri": "https://localhost:8080/"
        }
      },
      "execution_count": null,
      "outputs": [
        {
          "output_type": "stream",
          "name": "stdout",
          "text": [
            "   Age Delivery number Delivery time Blood of Pressure Heart Problem Caesarian\n",
            "0   22               1             0                 2             0         0\n",
            "1   26               2             0                 1             0         1\n",
            "2   26               2             1                 1             0         0\n",
            "3   28               1             0                 2             0         0\n",
            "4   22               2             0                 1             0         1\n",
            "..  ..             ...           ...               ...           ...       ...\n",
            "75  27               2             1                 1             0         0\n",
            "76  33               4             0                 1             0         1\n",
            "77  29               2             1                 2             0         1\n",
            "78  25               1             2                 0             0         1\n",
            "79  24               2             2                 1             0         0\n",
            "\n",
            "[80 rows x 6 columns]\n"
          ]
        }
      ]
    },
    {
      "cell_type": "code",
      "source": [
        "#Building Machine Learning Predictive Model\n",
        "X = raw_data.drop('Caesarian', axis=1)\n",
        "y = raw_data['Caesarian']"
      ],
      "metadata": {
        "id": "QI0bwKXJeDQm"
      },
      "execution_count": null,
      "outputs": []
    },
    {
      "cell_type": "code",
      "source": [
        "scaler = StandardScaler()\n",
        "X_normalized = scaler.fit_transform(X)"
      ],
      "metadata": {
        "id": "qgzopRvheDcO"
      },
      "execution_count": null,
      "outputs": []
    },
    {
      "cell_type": "code",
      "source": [
        "X_train, X_test, y_train, y_test = train_test_split(X_normalized, y, test_size=0.2, random_state=42)"
      ],
      "metadata": {
        "id": "FF8PKEqDeDfV"
      },
      "execution_count": null,
      "outputs": []
    },
    {
      "cell_type": "code",
      "source": [
        "decision_tree = DecisionTreeClassifier(random_state=42)\n",
        "decision_tree.fit(X_train, y_train)"
      ],
      "metadata": {
        "colab": {
          "base_uri": "https://localhost:8080/",
          "height": 74
        },
        "id": "l3HB2QMpeDh5",
        "outputId": "d2141a8f-c68a-46c2-bc8b-49070adc9f25"
      },
      "execution_count": null,
      "outputs": [
        {
          "output_type": "execute_result",
          "data": {
            "text/plain": [
              "DecisionTreeClassifier(random_state=42)"
            ],
            "text/html": [
              "<style>#sk-container-id-3 {color: black;background-color: white;}#sk-container-id-3 pre{padding: 0;}#sk-container-id-3 div.sk-toggleable {background-color: white;}#sk-container-id-3 label.sk-toggleable__label {cursor: pointer;display: block;width: 100%;margin-bottom: 0;padding: 0.3em;box-sizing: border-box;text-align: center;}#sk-container-id-3 label.sk-toggleable__label-arrow:before {content: \"▸\";float: left;margin-right: 0.25em;color: #696969;}#sk-container-id-3 label.sk-toggleable__label-arrow:hover:before {color: black;}#sk-container-id-3 div.sk-estimator:hover label.sk-toggleable__label-arrow:before {color: black;}#sk-container-id-3 div.sk-toggleable__content {max-height: 0;max-width: 0;overflow: hidden;text-align: left;background-color: #f0f8ff;}#sk-container-id-3 div.sk-toggleable__content pre {margin: 0.2em;color: black;border-radius: 0.25em;background-color: #f0f8ff;}#sk-container-id-3 input.sk-toggleable__control:checked~div.sk-toggleable__content {max-height: 200px;max-width: 100%;overflow: auto;}#sk-container-id-3 input.sk-toggleable__control:checked~label.sk-toggleable__label-arrow:before {content: \"▾\";}#sk-container-id-3 div.sk-estimator input.sk-toggleable__control:checked~label.sk-toggleable__label {background-color: #d4ebff;}#sk-container-id-3 div.sk-label input.sk-toggleable__control:checked~label.sk-toggleable__label {background-color: #d4ebff;}#sk-container-id-3 input.sk-hidden--visually {border: 0;clip: rect(1px 1px 1px 1px);clip: rect(1px, 1px, 1px, 1px);height: 1px;margin: -1px;overflow: hidden;padding: 0;position: absolute;width: 1px;}#sk-container-id-3 div.sk-estimator {font-family: monospace;background-color: #f0f8ff;border: 1px dotted black;border-radius: 0.25em;box-sizing: border-box;margin-bottom: 0.5em;}#sk-container-id-3 div.sk-estimator:hover {background-color: #d4ebff;}#sk-container-id-3 div.sk-parallel-item::after {content: \"\";width: 100%;border-bottom: 1px solid gray;flex-grow: 1;}#sk-container-id-3 div.sk-label:hover label.sk-toggleable__label {background-color: #d4ebff;}#sk-container-id-3 div.sk-serial::before {content: \"\";position: absolute;border-left: 1px solid gray;box-sizing: border-box;top: 0;bottom: 0;left: 50%;z-index: 0;}#sk-container-id-3 div.sk-serial {display: flex;flex-direction: column;align-items: center;background-color: white;padding-right: 0.2em;padding-left: 0.2em;position: relative;}#sk-container-id-3 div.sk-item {position: relative;z-index: 1;}#sk-container-id-3 div.sk-parallel {display: flex;align-items: stretch;justify-content: center;background-color: white;position: relative;}#sk-container-id-3 div.sk-item::before, #sk-container-id-3 div.sk-parallel-item::before {content: \"\";position: absolute;border-left: 1px solid gray;box-sizing: border-box;top: 0;bottom: 0;left: 50%;z-index: -1;}#sk-container-id-3 div.sk-parallel-item {display: flex;flex-direction: column;z-index: 1;position: relative;background-color: white;}#sk-container-id-3 div.sk-parallel-item:first-child::after {align-self: flex-end;width: 50%;}#sk-container-id-3 div.sk-parallel-item:last-child::after {align-self: flex-start;width: 50%;}#sk-container-id-3 div.sk-parallel-item:only-child::after {width: 0;}#sk-container-id-3 div.sk-dashed-wrapped {border: 1px dashed gray;margin: 0 0.4em 0.5em 0.4em;box-sizing: border-box;padding-bottom: 0.4em;background-color: white;}#sk-container-id-3 div.sk-label label {font-family: monospace;font-weight: bold;display: inline-block;line-height: 1.2em;}#sk-container-id-3 div.sk-label-container {text-align: center;}#sk-container-id-3 div.sk-container {/* jupyter's `normalize.less` sets `[hidden] { display: none; }` but bootstrap.min.css set `[hidden] { display: none !important; }` so we also need the `!important` here to be able to override the default hidden behavior on the sphinx rendered scikit-learn.org. See: https://github.com/scikit-learn/scikit-learn/issues/21755 */display: inline-block !important;position: relative;}#sk-container-id-3 div.sk-text-repr-fallback {display: none;}</style><div id=\"sk-container-id-3\" class=\"sk-top-container\"><div class=\"sk-text-repr-fallback\"><pre>DecisionTreeClassifier(random_state=42)</pre><b>In a Jupyter environment, please rerun this cell to show the HTML representation or trust the notebook. <br />On GitHub, the HTML representation is unable to render, please try loading this page with nbviewer.org.</b></div><div class=\"sk-container\" hidden><div class=\"sk-item\"><div class=\"sk-estimator sk-toggleable\"><input class=\"sk-toggleable__control sk-hidden--visually\" id=\"sk-estimator-id-3\" type=\"checkbox\" checked><label for=\"sk-estimator-id-3\" class=\"sk-toggleable__label sk-toggleable__label-arrow\">DecisionTreeClassifier</label><div class=\"sk-toggleable__content\"><pre>DecisionTreeClassifier(random_state=42)</pre></div></div></div></div></div>"
            ]
          },
          "metadata": {},
          "execution_count": 214
        }
      ]
    },
    {
      "cell_type": "code",
      "source": [
        "naive_bayes = GaussianNB()\n",
        "naive_bayes.fit(X_train, y_train)"
      ],
      "metadata": {
        "colab": {
          "base_uri": "https://localhost:8080/",
          "height": 74
        },
        "id": "LuLO9e6GeDnB",
        "outputId": "956c5646-d1dc-4f40-8d49-4271b656b659"
      },
      "execution_count": null,
      "outputs": [
        {
          "output_type": "execute_result",
          "data": {
            "text/plain": [
              "GaussianNB()"
            ],
            "text/html": [
              "<style>#sk-container-id-4 {color: black;background-color: white;}#sk-container-id-4 pre{padding: 0;}#sk-container-id-4 div.sk-toggleable {background-color: white;}#sk-container-id-4 label.sk-toggleable__label {cursor: pointer;display: block;width: 100%;margin-bottom: 0;padding: 0.3em;box-sizing: border-box;text-align: center;}#sk-container-id-4 label.sk-toggleable__label-arrow:before {content: \"▸\";float: left;margin-right: 0.25em;color: #696969;}#sk-container-id-4 label.sk-toggleable__label-arrow:hover:before {color: black;}#sk-container-id-4 div.sk-estimator:hover label.sk-toggleable__label-arrow:before {color: black;}#sk-container-id-4 div.sk-toggleable__content {max-height: 0;max-width: 0;overflow: hidden;text-align: left;background-color: #f0f8ff;}#sk-container-id-4 div.sk-toggleable__content pre {margin: 0.2em;color: black;border-radius: 0.25em;background-color: #f0f8ff;}#sk-container-id-4 input.sk-toggleable__control:checked~div.sk-toggleable__content {max-height: 200px;max-width: 100%;overflow: auto;}#sk-container-id-4 input.sk-toggleable__control:checked~label.sk-toggleable__label-arrow:before {content: \"▾\";}#sk-container-id-4 div.sk-estimator input.sk-toggleable__control:checked~label.sk-toggleable__label {background-color: #d4ebff;}#sk-container-id-4 div.sk-label input.sk-toggleable__control:checked~label.sk-toggleable__label {background-color: #d4ebff;}#sk-container-id-4 input.sk-hidden--visually {border: 0;clip: rect(1px 1px 1px 1px);clip: rect(1px, 1px, 1px, 1px);height: 1px;margin: -1px;overflow: hidden;padding: 0;position: absolute;width: 1px;}#sk-container-id-4 div.sk-estimator {font-family: monospace;background-color: #f0f8ff;border: 1px dotted black;border-radius: 0.25em;box-sizing: border-box;margin-bottom: 0.5em;}#sk-container-id-4 div.sk-estimator:hover {background-color: #d4ebff;}#sk-container-id-4 div.sk-parallel-item::after {content: \"\";width: 100%;border-bottom: 1px solid gray;flex-grow: 1;}#sk-container-id-4 div.sk-label:hover label.sk-toggleable__label {background-color: #d4ebff;}#sk-container-id-4 div.sk-serial::before {content: \"\";position: absolute;border-left: 1px solid gray;box-sizing: border-box;top: 0;bottom: 0;left: 50%;z-index: 0;}#sk-container-id-4 div.sk-serial {display: flex;flex-direction: column;align-items: center;background-color: white;padding-right: 0.2em;padding-left: 0.2em;position: relative;}#sk-container-id-4 div.sk-item {position: relative;z-index: 1;}#sk-container-id-4 div.sk-parallel {display: flex;align-items: stretch;justify-content: center;background-color: white;position: relative;}#sk-container-id-4 div.sk-item::before, #sk-container-id-4 div.sk-parallel-item::before {content: \"\";position: absolute;border-left: 1px solid gray;box-sizing: border-box;top: 0;bottom: 0;left: 50%;z-index: -1;}#sk-container-id-4 div.sk-parallel-item {display: flex;flex-direction: column;z-index: 1;position: relative;background-color: white;}#sk-container-id-4 div.sk-parallel-item:first-child::after {align-self: flex-end;width: 50%;}#sk-container-id-4 div.sk-parallel-item:last-child::after {align-self: flex-start;width: 50%;}#sk-container-id-4 div.sk-parallel-item:only-child::after {width: 0;}#sk-container-id-4 div.sk-dashed-wrapped {border: 1px dashed gray;margin: 0 0.4em 0.5em 0.4em;box-sizing: border-box;padding-bottom: 0.4em;background-color: white;}#sk-container-id-4 div.sk-label label {font-family: monospace;font-weight: bold;display: inline-block;line-height: 1.2em;}#sk-container-id-4 div.sk-label-container {text-align: center;}#sk-container-id-4 div.sk-container {/* jupyter's `normalize.less` sets `[hidden] { display: none; }` but bootstrap.min.css set `[hidden] { display: none !important; }` so we also need the `!important` here to be able to override the default hidden behavior on the sphinx rendered scikit-learn.org. See: https://github.com/scikit-learn/scikit-learn/issues/21755 */display: inline-block !important;position: relative;}#sk-container-id-4 div.sk-text-repr-fallback {display: none;}</style><div id=\"sk-container-id-4\" class=\"sk-top-container\"><div class=\"sk-text-repr-fallback\"><pre>GaussianNB()</pre><b>In a Jupyter environment, please rerun this cell to show the HTML representation or trust the notebook. <br />On GitHub, the HTML representation is unable to render, please try loading this page with nbviewer.org.</b></div><div class=\"sk-container\" hidden><div class=\"sk-item\"><div class=\"sk-estimator sk-toggleable\"><input class=\"sk-toggleable__control sk-hidden--visually\" id=\"sk-estimator-id-4\" type=\"checkbox\" checked><label for=\"sk-estimator-id-4\" class=\"sk-toggleable__label sk-toggleable__label-arrow\">GaussianNB</label><div class=\"sk-toggleable__content\"><pre>GaussianNB()</pre></div></div></div></div></div>"
            ]
          },
          "metadata": {},
          "execution_count": 215
        }
      ]
    },
    {
      "cell_type": "code",
      "source": [
        "#Evaluating Machine Learning Predictive Model\n",
        "def evaluate_model(model_name, y_true, y_pred):\n",
        "    accuracy = accuracy_score(y_true, y_pred)\n",
        "    precision = precision_score(y_true, y_pred, average='binary')\n",
        "    recall = recall_score(y_true, y_pred, average='binary')\n",
        "    return accuracy, precision, recall"
      ],
      "metadata": {
        "id": "rSJFtm_zeDps"
      },
      "execution_count": null,
      "outputs": []
    },
    {
      "cell_type": "code",
      "source": [
        "y_pred_dt = decision_tree.predict(X_test)\n",
        "y_pred_nb = naive_bayes.predict(X_test)"
      ],
      "metadata": {
        "id": "fYxvwJkNeDtZ"
      },
      "execution_count": null,
      "outputs": []
    },
    {
      "cell_type": "code",
      "source": [
        "y_pred_dt_int = y_pred_dt.astype(int)\n",
        "y_pred_nb_int = y_pred_nb.astype(int)"
      ],
      "metadata": {
        "id": "TV7VpjQHhs5O"
      },
      "execution_count": null,
      "outputs": []
    },
    {
      "cell_type": "code",
      "source": [
        "y_test_int = y_test.astype(int)\n",
        "y_pred_dt_int = y_pred_dt.astype(int)"
      ],
      "metadata": {
        "id": "-xHc6anZerM4"
      },
      "execution_count": null,
      "outputs": []
    },
    {
      "cell_type": "code",
      "source": [
        "accuracy_dt, precision_dt, recall_dt = evaluate_model(\"Decision Tree\", y_test_int, y_pred_dt_int)\n",
        "accuracy_nb, precision_nb, recall_nb = evaluate_model(\"Naive Bayes\", y_test_int, y_pred_nb_int)"
      ],
      "metadata": {
        "id": "dkNOCUdqhj06"
      },
      "execution_count": null,
      "outputs": []
    },
    {
      "cell_type": "code",
      "source": [
        "model_name = \"Mock Caesarian Section Predictive Model\""
      ],
      "metadata": {
        "id": "4dRmYrpEfI8Q"
      },
      "execution_count": null,
      "outputs": []
    },
    {
      "cell_type": "code",
      "source": [
        "print(f\"{model_name} Model (Decision Tree):\")\n",
        "print(f\"Accuracy: {accuracy_dt:.2f}\")\n",
        "print(f\"Precision: {precision_dt:.2f}\")\n",
        "print(f\"Recall: {recall_dt:.2f}\")\n",
        "print(\"\\n\")"
      ],
      "metadata": {
        "id": "qG4H8kE6e90Q",
        "outputId": "f992a49e-38d5-48a6-fa3c-2ec8712f1152",
        "colab": {
          "base_uri": "https://localhost:8080/"
        }
      },
      "execution_count": null,
      "outputs": [
        {
          "output_type": "stream",
          "name": "stdout",
          "text": [
            "Mock Caesarian Section Predictive Model Model (Decision Tree):\n",
            "Accuracy: 0.44\n",
            "Precision: 0.57\n",
            "Recall: 0.40\n",
            "\n",
            "\n"
          ]
        }
      ]
    },
    {
      "cell_type": "code",
      "source": [
        "print(f\"{model_name} Model (Naive Bayes):\")\n",
        "print(f\"Accuracy: {accuracy_nb:.2f}\")\n",
        "print(f\"Precision: {precision_nb:.2f}\")\n",
        "print(f\"Recall: {recall_nb:.2f}\")\n",
        "print(\"\\n\")"
      ],
      "metadata": {
        "id": "HA-SWyThiAgP",
        "outputId": "15f6dd31-ad4c-44b4-d5e3-413230245bcb",
        "colab": {
          "base_uri": "https://localhost:8080/"
        }
      },
      "execution_count": null,
      "outputs": [
        {
          "output_type": "stream",
          "name": "stdout",
          "text": [
            "Mock Caesarian Section Predictive Model Model (Naive Bayes):\n",
            "Accuracy: 0.69\n",
            "Precision: 0.73\n",
            "Recall: 0.80\n",
            "\n",
            "\n"
          ]
        }
      ]
    }
  ]
}